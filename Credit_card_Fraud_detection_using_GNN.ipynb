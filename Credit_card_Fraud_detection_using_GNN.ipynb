{
  "metadata": {
    "kernelspec": {
      "display_name": "Python 3",
      "name": "python3"
    },
    "language_info": {
      "name": "python",
      "version": "3.11.11",
      "mimetype": "text/x-python",
      "codemirror_mode": {
        "name": "ipython",
        "version": 3
      },
      "pygments_lexer": "ipython3",
      "nbconvert_exporter": "python",
      "file_extension": ".py"
    },
    "kaggle": {
      "accelerator": "nvidiaTeslaT4",
      "dataSources": [
        {
          "sourceId": 2705785,
          "sourceType": "datasetVersion",
          "datasetId": 1478095
        },
        {
          "sourceId": 11407810,
          "sourceType": "datasetVersion",
          "datasetId": 7145964
        }
      ],
      "dockerImageVersionId": 31012,
      "isInternetEnabled": true,
      "language": "python",
      "sourceType": "notebook",
      "isGpuEnabled": true
    },
    "colab": {
      "name": "Credit card Fraud detection using GNN",
      "provenance": [],
      "gpuType": "T4",
      "include_colab_link": true
    },
    "accelerator": "GPU"
  },
  "nbformat_minor": 0,
  "nbformat": 4,
  "cells": [
    {
      "cell_type": "markdown",
      "metadata": {
        "id": "view-in-github",
        "colab_type": "text"
      },
      "source": [
        "<a href=\"https://colab.research.google.com/github/mcmau/Dados/blob/master/Credit_card_Fraud_detection_using_GNN.ipynb\" target=\"_parent\"><img src=\"https://colab.research.google.com/assets/colab-badge.svg\" alt=\"Open In Colab\"/></a>"
      ]
    },
    {
      "source": [
        "# IMPORTANT: RUN THIS CELL IN ORDER TO IMPORT YOUR KAGGLE DATA SOURCES,\n",
        "# THEN FEEL FREE TO DELETE THIS CELL.\n",
        "# NOTE: THIS NOTEBOOK ENVIRONMENT DIFFERS FROM KAGGLE'S PYTHON\n",
        "# ENVIRONMENT SO THERE MAY BE MISSING LIBRARIES USED BY YOUR\n",
        "# NOTEBOOK.\n",
        "import kagglehub\n",
        "ealtman2019_credit_card_transactions_path = kagglehub.dataset_download('ealtman2019/credit-card-transactions')\n",
        "\n",
        "print('Data source import complete.')\n",
        "\n",
        "ealtman2019_credit_card_transactions_path"
      ],
      "metadata": {
        "colab": {
          "base_uri": "https://localhost:8080/",
          "height": 55
        },
        "id": "S5c7aMnq7ziq",
        "outputId": "f3f74e6b-e82b-4060-e00b-7e54c315b400"
      },
      "cell_type": "code",
      "outputs": [
        {
          "output_type": "stream",
          "name": "stdout",
          "text": [
            "Data source import complete.\n"
          ]
        },
        {
          "output_type": "execute_result",
          "data": {
            "text/plain": [
              "'/kaggle/input/credit-card-transactions'"
            ],
            "application/vnd.google.colaboratory.intrinsic+json": {
              "type": "string"
            }
          },
          "metadata": {},
          "execution_count": 1
        }
      ],
      "execution_count": 1
    },
    {
      "cell_type": "markdown",
      "source": [
        "## ML for graph\n",
        "\n",
        "These are the general steps of ML on Graph, depending on the task, the methods used in each step may change and not all the steps may be needed.\n",
        "\n",
        "1. Graph Representation: The first step in applying machine learning techniques to graphs is to represent the graph in a format that can be input into a machine learning model. This can be done using various graph representations such as adjacency matrices, adjacency lists, and edge lists.\n",
        "\n",
        "2. Feature Extraction: Once the graph is represented, the next step is to extract features from the graph that can be used as input to a machine learning model. These features can include things like node degree, centrality measures, and graph traversal patterns.\n",
        "\n",
        "3. Dimensionality Reduction: As the number of nodes and edges in a graph can be large, it is often necessary to reduce the dimensionality of the graph representation before applying machine learning techniques. This can be done using techniques like principal component analysis (PCA) and t-SNE.\n",
        "\n",
        "4. Model Selection: After the graph is represented and features have been extracted, the next step is to select a machine learning model that can be applied to the graph data. Common models used for graph data include decision trees, random forests, and neural networks.\n",
        "\n",
        "5. Training and Evaluation: Once the model is selected, it is trained on the graph data using a labeled training dataset. The model is then evaluated on a separate test dataset to assess its performance.\n",
        "\n",
        "6. Predictions: After the model is trained, it can be used to make predictions on new graph data. For example, it can be used to predict the likelihood of a node in a graph being in a certain class or to predict the likelihood of a link between two nodes."
      ],
      "metadata": {
        "id": "slHmHycX7zir"
      }
    },
    {
      "cell_type": "markdown",
      "source": [
        "## Dataset\n",
        "The IBM credit card transaction dataset is a publicly available dataset that contains information about credit card transactions. It is often used for research and testing of fraud detection models. The dataset includes a variety of features such as the amount of the transaction, the type of card used, and the location of the transaction. It also includes a label indicating whether or not the transaction was fraudulent. The dataset is designed to be representative of real-world transactions and therefore contains a certain level of class imbalance, with a higher number of non-fraudulent transactions than fraudulent transactions. The dataset is provided by IBM and the data is simulated, but it is not specified the exact process of data simulation. It is important to note that the data is not real and it is not linked to any real customer or financial institution.\n",
        "\n",
        "The data set contains:\n",
        "* 24 million unique transactions\n",
        "* 6,000 unique merchants\n",
        "* 100,000 unique cards\n",
        "* 30,000 fraudulent samples (0.1% of total transactions)\n",
        "\n",
        "Features:\n",
        " 0   User            int64  \n",
        " 1   Card            int64  \n",
        " 2   Year            int64  \n",
        " 3   Month           int64  \n",
        " 4   Day             int64  \n",
        " 5   Time            object\n",
        " 6   Amount          object\n",
        " 7   Use Chip        object\n",
        " 8   Merchant Name   int64  \n",
        " 9   Merchant City   object\n",
        " 10  Merchant State  object\n",
        " 11  Zip             float64\n",
        " 12  MCC             int64  \n",
        " 13  Errors?         object\n",
        " 14  Is Fraud?       object\n"
      ],
      "metadata": {
        "id": "ynCSGWw77zir"
      }
    },
    {
      "cell_type": "markdown",
      "source": [
        "\n",
        "# INSTALLING REQUIRED LIBRARIES"
      ],
      "metadata": {
        "id": "7nUAOb9o7zir"
      }
    },
    {
      "cell_type": "code",
      "source": [
        "pip install torch-geometric"
      ],
      "metadata": {
        "trusted": true,
        "execution": {
          "iopub.status.busy": "2025-05-03T11:42:41.153318Z",
          "iopub.execute_input": "2025-05-03T11:42:41.153897Z",
          "iopub.status.idle": "2025-05-03T11:42:46.041349Z",
          "shell.execute_reply.started": "2025-05-03T11:42:41.153877Z",
          "shell.execute_reply": "2025-05-03T11:42:46.040545Z"
        },
        "colab": {
          "base_uri": "https://localhost:8080/"
        },
        "id": "2RxDluKy7zir",
        "outputId": "f090dd2e-f025-4214-8fe2-0a1f9037627c"
      },
      "outputs": [
        {
          "output_type": "stream",
          "name": "stdout",
          "text": [
            "Collecting torch-geometric\n",
            "  Downloading torch_geometric-2.6.1-py3-none-any.whl.metadata (63 kB)\n",
            "\u001b[?25l     \u001b[90m━━━━━━━━━━━━━━━━━━━━━━━━━━━━━━━━━━━━━━━━\u001b[0m \u001b[32m0.0/63.1 kB\u001b[0m \u001b[31m?\u001b[0m eta \u001b[36m-:--:--\u001b[0m\r\u001b[2K     \u001b[90m━━━━━━━━━━━━━━━━━━━━━━━━━━━━━━━━━━━━━━━━\u001b[0m \u001b[32m63.1/63.1 kB\u001b[0m \u001b[31m2.9 MB/s\u001b[0m eta \u001b[36m0:00:00\u001b[0m\n",
            "\u001b[?25hRequirement already satisfied: aiohttp in /usr/local/lib/python3.11/dist-packages (from torch-geometric) (3.11.15)\n",
            "Requirement already satisfied: fsspec in /usr/local/lib/python3.11/dist-packages (from torch-geometric) (2025.3.2)\n",
            "Requirement already satisfied: jinja2 in /usr/local/lib/python3.11/dist-packages (from torch-geometric) (3.1.6)\n",
            "Requirement already satisfied: numpy in /usr/local/lib/python3.11/dist-packages (from torch-geometric) (2.0.2)\n",
            "Requirement already satisfied: psutil>=5.8.0 in /usr/local/lib/python3.11/dist-packages (from torch-geometric) (5.9.5)\n",
            "Requirement already satisfied: pyparsing in /usr/local/lib/python3.11/dist-packages (from torch-geometric) (3.2.3)\n",
            "Requirement already satisfied: requests in /usr/local/lib/python3.11/dist-packages (from torch-geometric) (2.32.3)\n",
            "Requirement already satisfied: tqdm in /usr/local/lib/python3.11/dist-packages (from torch-geometric) (4.67.1)\n",
            "Requirement already satisfied: aiohappyeyeballs>=2.3.0 in /usr/local/lib/python3.11/dist-packages (from aiohttp->torch-geometric) (2.6.1)\n",
            "Requirement already satisfied: aiosignal>=1.1.2 in /usr/local/lib/python3.11/dist-packages (from aiohttp->torch-geometric) (1.4.0)\n",
            "Requirement already satisfied: attrs>=17.3.0 in /usr/local/lib/python3.11/dist-packages (from aiohttp->torch-geometric) (25.3.0)\n",
            "Requirement already satisfied: frozenlist>=1.1.1 in /usr/local/lib/python3.11/dist-packages (from aiohttp->torch-geometric) (1.7.0)\n",
            "Requirement already satisfied: multidict<7.0,>=4.5 in /usr/local/lib/python3.11/dist-packages (from aiohttp->torch-geometric) (6.6.3)\n",
            "Requirement already satisfied: propcache>=0.2.0 in /usr/local/lib/python3.11/dist-packages (from aiohttp->torch-geometric) (0.3.2)\n",
            "Requirement already satisfied: yarl<2.0,>=1.17.0 in /usr/local/lib/python3.11/dist-packages (from aiohttp->torch-geometric) (1.20.1)\n",
            "Requirement already satisfied: MarkupSafe>=2.0 in /usr/local/lib/python3.11/dist-packages (from jinja2->torch-geometric) (3.0.2)\n",
            "Requirement already satisfied: charset-normalizer<4,>=2 in /usr/local/lib/python3.11/dist-packages (from requests->torch-geometric) (3.4.2)\n",
            "Requirement already satisfied: idna<4,>=2.5 in /usr/local/lib/python3.11/dist-packages (from requests->torch-geometric) (3.10)\n",
            "Requirement already satisfied: urllib3<3,>=1.21.1 in /usr/local/lib/python3.11/dist-packages (from requests->torch-geometric) (2.4.0)\n",
            "Requirement already satisfied: certifi>=2017.4.17 in /usr/local/lib/python3.11/dist-packages (from requests->torch-geometric) (2025.7.14)\n",
            "Requirement already satisfied: typing-extensions>=4.2 in /usr/local/lib/python3.11/dist-packages (from aiosignal>=1.1.2->aiohttp->torch-geometric) (4.14.1)\n",
            "Downloading torch_geometric-2.6.1-py3-none-any.whl (1.1 MB)\n",
            "\u001b[?25l   \u001b[90m━━━━━━━━━━━━━━━━━━━━━━━━━━━━━━━━━━━━━━━━\u001b[0m \u001b[32m0.0/1.1 MB\u001b[0m \u001b[31m?\u001b[0m eta \u001b[36m-:--:--\u001b[0m\r\u001b[2K   \u001b[91m━━━━━━━━━━━━━━━━━━━━━━━━━━━━━━━━━━━━━━━\u001b[0m\u001b[91m╸\u001b[0m \u001b[32m1.1/1.1 MB\u001b[0m \u001b[31m39.5 MB/s\u001b[0m eta \u001b[36m0:00:01\u001b[0m\r\u001b[2K   \u001b[90m━━━━━━━━━━━━━━━━━━━━━━━━━━━━━━━━━━━━━━━━\u001b[0m \u001b[32m1.1/1.1 MB\u001b[0m \u001b[31m27.6 MB/s\u001b[0m eta \u001b[36m0:00:00\u001b[0m\n",
            "\u001b[?25hInstalling collected packages: torch-geometric\n",
            "Successfully installed torch-geometric-2.6.1\n"
          ]
        }
      ],
      "execution_count": 2
    },
    {
      "cell_type": "markdown",
      "source": [
        "# IMPORTING REQUIRED LIBRARIES"
      ],
      "metadata": {
        "id": "WAQrCDnJ7zir"
      }
    },
    {
      "cell_type": "code",
      "source": [
        "import pandas as pd\n",
        "import numpy as np\n",
        "import torch\n",
        "import torch.nn as nn\n",
        "import torch.nn.functional as F\n",
        "import matplotlib.pyplot as plt\n",
        "from sklearn.preprocessing import LabelEncoder\n",
        "from sklearn.metrics import confusion_matrix, classification_report\n",
        "from sklearn.model_selection import train_test_split\n",
        "from torch_geometric.data import Data\n",
        "from torch_geometric.nn import GCNConv, GAE\n",
        "import networkx as nx\n",
        "import seaborn as sns\n"
      ],
      "metadata": {
        "trusted": true,
        "execution": {
          "iopub.status.busy": "2025-05-03T11:42:46.043535Z",
          "iopub.execute_input": "2025-05-03T11:42:46.043787Z",
          "iopub.status.idle": "2025-05-03T11:42:55.69944Z",
          "shell.execute_reply.started": "2025-05-03T11:42:46.043768Z",
          "shell.execute_reply": "2025-05-03T11:42:55.698892Z"
        },
        "id": "kKhXMspZ7zir"
      },
      "outputs": [],
      "execution_count": 3
    },
    {
      "cell_type": "markdown",
      "source": [
        "# READING DATA AND PERFORMING EDA"
      ],
      "metadata": {
        "id": "hxXDz-cy7zis"
      }
    },
    {
      "cell_type": "code",
      "source": [
        "d = pd.read_csv(\"/kaggle/input/credit-card-transactions/credit_card_transactions-ibm_v2.csv\")\n",
        "d"
      ],
      "metadata": {
        "trusted": true,
        "execution": {
          "iopub.status.busy": "2025-05-03T11:42:55.700123Z",
          "iopub.execute_input": "2025-05-03T11:42:55.700598Z",
          "iopub.status.idle": "2025-05-03T11:43:51.682172Z",
          "shell.execute_reply.started": "2025-05-03T11:42:55.700574Z",
          "shell.execute_reply": "2025-05-03T11:43:51.681524Z"
        },
        "colab": {
          "base_uri": "https://localhost:8080/",
          "height": 423
        },
        "id": "QpyrMRpC7zis",
        "outputId": "84723fb0-b227-4b56-e4ec-20c0f8033a7d"
      },
      "outputs": [
        {
          "output_type": "execute_result",
          "data": {
            "text/plain": [
              "          User  Card  Year  Month  Day   Time   Amount           Use Chip  \\\n",
              "0            0     0  2002      9    1  06:21  $134.09  Swipe Transaction   \n",
              "1            0     0  2002      9    1  06:42   $38.48  Swipe Transaction   \n",
              "2            0     0  2002      9    2  06:22  $120.34  Swipe Transaction   \n",
              "3            0     0  2002      9    2  17:45  $128.95  Swipe Transaction   \n",
              "4            0     0  2002      9    3  06:23  $104.71  Swipe Transaction   \n",
              "...        ...   ...   ...    ...  ...    ...      ...                ...   \n",
              "24386895  1999     1  2020      2   27  22:23  $-54.00   Chip Transaction   \n",
              "24386896  1999     1  2020      2   27  22:24   $54.00   Chip Transaction   \n",
              "24386897  1999     1  2020      2   28  07:43   $59.15   Chip Transaction   \n",
              "24386898  1999     1  2020      2   28  20:10   $43.12   Chip Transaction   \n",
              "24386899  1999     1  2020      2   28  23:10   $45.13   Chip Transaction   \n",
              "\n",
              "                Merchant Name  Merchant City Merchant State      Zip   MCC  \\\n",
              "0         3527213246127876953       La Verne             CA  91750.0  5300   \n",
              "1         -727612092139916043  Monterey Park             CA  91754.0  5411   \n",
              "2         -727612092139916043  Monterey Park             CA  91754.0  5411   \n",
              "3         3414527459579106770  Monterey Park             CA  91754.0  5651   \n",
              "4         5817218446178736267       La Verne             CA  91750.0  5912   \n",
              "...                       ...            ...            ...      ...   ...   \n",
              "24386895 -5162038175624867091      Merrimack             NH   3054.0  5541   \n",
              "24386896 -5162038175624867091      Merrimack             NH   3054.0  5541   \n",
              "24386897  2500998799892805156      Merrimack             NH   3054.0  4121   \n",
              "24386898  2500998799892805156      Merrimack             NH   3054.0  4121   \n",
              "24386899  4751695835751691036      Merrimack             NH   3054.0  5814   \n",
              "\n",
              "         Errors? Is Fraud?  \n",
              "0            NaN        No  \n",
              "1            NaN        No  \n",
              "2            NaN        No  \n",
              "3            NaN        No  \n",
              "4            NaN        No  \n",
              "...          ...       ...  \n",
              "24386895     NaN        No  \n",
              "24386896     NaN        No  \n",
              "24386897     NaN        No  \n",
              "24386898     NaN        No  \n",
              "24386899     NaN        No  \n",
              "\n",
              "[24386900 rows x 15 columns]"
            ],
            "text/html": [
              "\n",
              "  <div id=\"df-b7c28b43-3a8e-4631-8990-1679315d542c\" class=\"colab-df-container\">\n",
              "    <div>\n",
              "<style scoped>\n",
              "    .dataframe tbody tr th:only-of-type {\n",
              "        vertical-align: middle;\n",
              "    }\n",
              "\n",
              "    .dataframe tbody tr th {\n",
              "        vertical-align: top;\n",
              "    }\n",
              "\n",
              "    .dataframe thead th {\n",
              "        text-align: right;\n",
              "    }\n",
              "</style>\n",
              "<table border=\"1\" class=\"dataframe\">\n",
              "  <thead>\n",
              "    <tr style=\"text-align: right;\">\n",
              "      <th></th>\n",
              "      <th>User</th>\n",
              "      <th>Card</th>\n",
              "      <th>Year</th>\n",
              "      <th>Month</th>\n",
              "      <th>Day</th>\n",
              "      <th>Time</th>\n",
              "      <th>Amount</th>\n",
              "      <th>Use Chip</th>\n",
              "      <th>Merchant Name</th>\n",
              "      <th>Merchant City</th>\n",
              "      <th>Merchant State</th>\n",
              "      <th>Zip</th>\n",
              "      <th>MCC</th>\n",
              "      <th>Errors?</th>\n",
              "      <th>Is Fraud?</th>\n",
              "    </tr>\n",
              "  </thead>\n",
              "  <tbody>\n",
              "    <tr>\n",
              "      <th>0</th>\n",
              "      <td>0</td>\n",
              "      <td>0</td>\n",
              "      <td>2002</td>\n",
              "      <td>9</td>\n",
              "      <td>1</td>\n",
              "      <td>06:21</td>\n",
              "      <td>$134.09</td>\n",
              "      <td>Swipe Transaction</td>\n",
              "      <td>3527213246127876953</td>\n",
              "      <td>La Verne</td>\n",
              "      <td>CA</td>\n",
              "      <td>91750.0</td>\n",
              "      <td>5300</td>\n",
              "      <td>NaN</td>\n",
              "      <td>No</td>\n",
              "    </tr>\n",
              "    <tr>\n",
              "      <th>1</th>\n",
              "      <td>0</td>\n",
              "      <td>0</td>\n",
              "      <td>2002</td>\n",
              "      <td>9</td>\n",
              "      <td>1</td>\n",
              "      <td>06:42</td>\n",
              "      <td>$38.48</td>\n",
              "      <td>Swipe Transaction</td>\n",
              "      <td>-727612092139916043</td>\n",
              "      <td>Monterey Park</td>\n",
              "      <td>CA</td>\n",
              "      <td>91754.0</td>\n",
              "      <td>5411</td>\n",
              "      <td>NaN</td>\n",
              "      <td>No</td>\n",
              "    </tr>\n",
              "    <tr>\n",
              "      <th>2</th>\n",
              "      <td>0</td>\n",
              "      <td>0</td>\n",
              "      <td>2002</td>\n",
              "      <td>9</td>\n",
              "      <td>2</td>\n",
              "      <td>06:22</td>\n",
              "      <td>$120.34</td>\n",
              "      <td>Swipe Transaction</td>\n",
              "      <td>-727612092139916043</td>\n",
              "      <td>Monterey Park</td>\n",
              "      <td>CA</td>\n",
              "      <td>91754.0</td>\n",
              "      <td>5411</td>\n",
              "      <td>NaN</td>\n",
              "      <td>No</td>\n",
              "    </tr>\n",
              "    <tr>\n",
              "      <th>3</th>\n",
              "      <td>0</td>\n",
              "      <td>0</td>\n",
              "      <td>2002</td>\n",
              "      <td>9</td>\n",
              "      <td>2</td>\n",
              "      <td>17:45</td>\n",
              "      <td>$128.95</td>\n",
              "      <td>Swipe Transaction</td>\n",
              "      <td>3414527459579106770</td>\n",
              "      <td>Monterey Park</td>\n",
              "      <td>CA</td>\n",
              "      <td>91754.0</td>\n",
              "      <td>5651</td>\n",
              "      <td>NaN</td>\n",
              "      <td>No</td>\n",
              "    </tr>\n",
              "    <tr>\n",
              "      <th>4</th>\n",
              "      <td>0</td>\n",
              "      <td>0</td>\n",
              "      <td>2002</td>\n",
              "      <td>9</td>\n",
              "      <td>3</td>\n",
              "      <td>06:23</td>\n",
              "      <td>$104.71</td>\n",
              "      <td>Swipe Transaction</td>\n",
              "      <td>5817218446178736267</td>\n",
              "      <td>La Verne</td>\n",
              "      <td>CA</td>\n",
              "      <td>91750.0</td>\n",
              "      <td>5912</td>\n",
              "      <td>NaN</td>\n",
              "      <td>No</td>\n",
              "    </tr>\n",
              "    <tr>\n",
              "      <th>...</th>\n",
              "      <td>...</td>\n",
              "      <td>...</td>\n",
              "      <td>...</td>\n",
              "      <td>...</td>\n",
              "      <td>...</td>\n",
              "      <td>...</td>\n",
              "      <td>...</td>\n",
              "      <td>...</td>\n",
              "      <td>...</td>\n",
              "      <td>...</td>\n",
              "      <td>...</td>\n",
              "      <td>...</td>\n",
              "      <td>...</td>\n",
              "      <td>...</td>\n",
              "      <td>...</td>\n",
              "    </tr>\n",
              "    <tr>\n",
              "      <th>24386895</th>\n",
              "      <td>1999</td>\n",
              "      <td>1</td>\n",
              "      <td>2020</td>\n",
              "      <td>2</td>\n",
              "      <td>27</td>\n",
              "      <td>22:23</td>\n",
              "      <td>$-54.00</td>\n",
              "      <td>Chip Transaction</td>\n",
              "      <td>-5162038175624867091</td>\n",
              "      <td>Merrimack</td>\n",
              "      <td>NH</td>\n",
              "      <td>3054.0</td>\n",
              "      <td>5541</td>\n",
              "      <td>NaN</td>\n",
              "      <td>No</td>\n",
              "    </tr>\n",
              "    <tr>\n",
              "      <th>24386896</th>\n",
              "      <td>1999</td>\n",
              "      <td>1</td>\n",
              "      <td>2020</td>\n",
              "      <td>2</td>\n",
              "      <td>27</td>\n",
              "      <td>22:24</td>\n",
              "      <td>$54.00</td>\n",
              "      <td>Chip Transaction</td>\n",
              "      <td>-5162038175624867091</td>\n",
              "      <td>Merrimack</td>\n",
              "      <td>NH</td>\n",
              "      <td>3054.0</td>\n",
              "      <td>5541</td>\n",
              "      <td>NaN</td>\n",
              "      <td>No</td>\n",
              "    </tr>\n",
              "    <tr>\n",
              "      <th>24386897</th>\n",
              "      <td>1999</td>\n",
              "      <td>1</td>\n",
              "      <td>2020</td>\n",
              "      <td>2</td>\n",
              "      <td>28</td>\n",
              "      <td>07:43</td>\n",
              "      <td>$59.15</td>\n",
              "      <td>Chip Transaction</td>\n",
              "      <td>2500998799892805156</td>\n",
              "      <td>Merrimack</td>\n",
              "      <td>NH</td>\n",
              "      <td>3054.0</td>\n",
              "      <td>4121</td>\n",
              "      <td>NaN</td>\n",
              "      <td>No</td>\n",
              "    </tr>\n",
              "    <tr>\n",
              "      <th>24386898</th>\n",
              "      <td>1999</td>\n",
              "      <td>1</td>\n",
              "      <td>2020</td>\n",
              "      <td>2</td>\n",
              "      <td>28</td>\n",
              "      <td>20:10</td>\n",
              "      <td>$43.12</td>\n",
              "      <td>Chip Transaction</td>\n",
              "      <td>2500998799892805156</td>\n",
              "      <td>Merrimack</td>\n",
              "      <td>NH</td>\n",
              "      <td>3054.0</td>\n",
              "      <td>4121</td>\n",
              "      <td>NaN</td>\n",
              "      <td>No</td>\n",
              "    </tr>\n",
              "    <tr>\n",
              "      <th>24386899</th>\n",
              "      <td>1999</td>\n",
              "      <td>1</td>\n",
              "      <td>2020</td>\n",
              "      <td>2</td>\n",
              "      <td>28</td>\n",
              "      <td>23:10</td>\n",
              "      <td>$45.13</td>\n",
              "      <td>Chip Transaction</td>\n",
              "      <td>4751695835751691036</td>\n",
              "      <td>Merrimack</td>\n",
              "      <td>NH</td>\n",
              "      <td>3054.0</td>\n",
              "      <td>5814</td>\n",
              "      <td>NaN</td>\n",
              "      <td>No</td>\n",
              "    </tr>\n",
              "  </tbody>\n",
              "</table>\n",
              "<p>24386900 rows × 15 columns</p>\n",
              "</div>\n",
              "    <div class=\"colab-df-buttons\">\n",
              "\n",
              "  <div class=\"colab-df-container\">\n",
              "    <button class=\"colab-df-convert\" onclick=\"convertToInteractive('df-b7c28b43-3a8e-4631-8990-1679315d542c')\"\n",
              "            title=\"Convert this dataframe to an interactive table.\"\n",
              "            style=\"display:none;\">\n",
              "\n",
              "  <svg xmlns=\"http://www.w3.org/2000/svg\" height=\"24px\" viewBox=\"0 -960 960 960\">\n",
              "    <path d=\"M120-120v-720h720v720H120Zm60-500h600v-160H180v160Zm220 220h160v-160H400v160Zm0 220h160v-160H400v160ZM180-400h160v-160H180v160Zm440 0h160v-160H620v160ZM180-180h160v-160H180v160Zm440 0h160v-160H620v160Z\"/>\n",
              "  </svg>\n",
              "    </button>\n",
              "\n",
              "  <style>\n",
              "    .colab-df-container {\n",
              "      display:flex;\n",
              "      gap: 12px;\n",
              "    }\n",
              "\n",
              "    .colab-df-convert {\n",
              "      background-color: #E8F0FE;\n",
              "      border: none;\n",
              "      border-radius: 50%;\n",
              "      cursor: pointer;\n",
              "      display: none;\n",
              "      fill: #1967D2;\n",
              "      height: 32px;\n",
              "      padding: 0 0 0 0;\n",
              "      width: 32px;\n",
              "    }\n",
              "\n",
              "    .colab-df-convert:hover {\n",
              "      background-color: #E2EBFA;\n",
              "      box-shadow: 0px 1px 2px rgba(60, 64, 67, 0.3), 0px 1px 3px 1px rgba(60, 64, 67, 0.15);\n",
              "      fill: #174EA6;\n",
              "    }\n",
              "\n",
              "    .colab-df-buttons div {\n",
              "      margin-bottom: 4px;\n",
              "    }\n",
              "\n",
              "    [theme=dark] .colab-df-convert {\n",
              "      background-color: #3B4455;\n",
              "      fill: #D2E3FC;\n",
              "    }\n",
              "\n",
              "    [theme=dark] .colab-df-convert:hover {\n",
              "      background-color: #434B5C;\n",
              "      box-shadow: 0px 1px 3px 1px rgba(0, 0, 0, 0.15);\n",
              "      filter: drop-shadow(0px 1px 2px rgba(0, 0, 0, 0.3));\n",
              "      fill: #FFFFFF;\n",
              "    }\n",
              "  </style>\n",
              "\n",
              "    <script>\n",
              "      const buttonEl =\n",
              "        document.querySelector('#df-b7c28b43-3a8e-4631-8990-1679315d542c button.colab-df-convert');\n",
              "      buttonEl.style.display =\n",
              "        google.colab.kernel.accessAllowed ? 'block' : 'none';\n",
              "\n",
              "      async function convertToInteractive(key) {\n",
              "        const element = document.querySelector('#df-b7c28b43-3a8e-4631-8990-1679315d542c');\n",
              "        const dataTable =\n",
              "          await google.colab.kernel.invokeFunction('convertToInteractive',\n",
              "                                                    [key], {});\n",
              "        if (!dataTable) return;\n",
              "\n",
              "        const docLinkHtml = 'Like what you see? Visit the ' +\n",
              "          '<a target=\"_blank\" href=https://colab.research.google.com/notebooks/data_table.ipynb>data table notebook</a>'\n",
              "          + ' to learn more about interactive tables.';\n",
              "        element.innerHTML = '';\n",
              "        dataTable['output_type'] = 'display_data';\n",
              "        await google.colab.output.renderOutput(dataTable, element);\n",
              "        const docLink = document.createElement('div');\n",
              "        docLink.innerHTML = docLinkHtml;\n",
              "        element.appendChild(docLink);\n",
              "      }\n",
              "    </script>\n",
              "  </div>\n",
              "\n",
              "\n",
              "    <div id=\"df-c52f0281-31ff-497d-8918-e153940eb477\">\n",
              "      <button class=\"colab-df-quickchart\" onclick=\"quickchart('df-c52f0281-31ff-497d-8918-e153940eb477')\"\n",
              "                title=\"Suggest charts\"\n",
              "                style=\"display:none;\">\n",
              "\n",
              "<svg xmlns=\"http://www.w3.org/2000/svg\" height=\"24px\"viewBox=\"0 0 24 24\"\n",
              "     width=\"24px\">\n",
              "    <g>\n",
              "        <path d=\"M19 3H5c-1.1 0-2 .9-2 2v14c0 1.1.9 2 2 2h14c1.1 0 2-.9 2-2V5c0-1.1-.9-2-2-2zM9 17H7v-7h2v7zm4 0h-2V7h2v10zm4 0h-2v-4h2v4z\"/>\n",
              "    </g>\n",
              "</svg>\n",
              "      </button>\n",
              "\n",
              "<style>\n",
              "  .colab-df-quickchart {\n",
              "      --bg-color: #E8F0FE;\n",
              "      --fill-color: #1967D2;\n",
              "      --hover-bg-color: #E2EBFA;\n",
              "      --hover-fill-color: #174EA6;\n",
              "      --disabled-fill-color: #AAA;\n",
              "      --disabled-bg-color: #DDD;\n",
              "  }\n",
              "\n",
              "  [theme=dark] .colab-df-quickchart {\n",
              "      --bg-color: #3B4455;\n",
              "      --fill-color: #D2E3FC;\n",
              "      --hover-bg-color: #434B5C;\n",
              "      --hover-fill-color: #FFFFFF;\n",
              "      --disabled-bg-color: #3B4455;\n",
              "      --disabled-fill-color: #666;\n",
              "  }\n",
              "\n",
              "  .colab-df-quickchart {\n",
              "    background-color: var(--bg-color);\n",
              "    border: none;\n",
              "    border-radius: 50%;\n",
              "    cursor: pointer;\n",
              "    display: none;\n",
              "    fill: var(--fill-color);\n",
              "    height: 32px;\n",
              "    padding: 0;\n",
              "    width: 32px;\n",
              "  }\n",
              "\n",
              "  .colab-df-quickchart:hover {\n",
              "    background-color: var(--hover-bg-color);\n",
              "    box-shadow: 0 1px 2px rgba(60, 64, 67, 0.3), 0 1px 3px 1px rgba(60, 64, 67, 0.15);\n",
              "    fill: var(--button-hover-fill-color);\n",
              "  }\n",
              "\n",
              "  .colab-df-quickchart-complete:disabled,\n",
              "  .colab-df-quickchart-complete:disabled:hover {\n",
              "    background-color: var(--disabled-bg-color);\n",
              "    fill: var(--disabled-fill-color);\n",
              "    box-shadow: none;\n",
              "  }\n",
              "\n",
              "  .colab-df-spinner {\n",
              "    border: 2px solid var(--fill-color);\n",
              "    border-color: transparent;\n",
              "    border-bottom-color: var(--fill-color);\n",
              "    animation:\n",
              "      spin 1s steps(1) infinite;\n",
              "  }\n",
              "\n",
              "  @keyframes spin {\n",
              "    0% {\n",
              "      border-color: transparent;\n",
              "      border-bottom-color: var(--fill-color);\n",
              "      border-left-color: var(--fill-color);\n",
              "    }\n",
              "    20% {\n",
              "      border-color: transparent;\n",
              "      border-left-color: var(--fill-color);\n",
              "      border-top-color: var(--fill-color);\n",
              "    }\n",
              "    30% {\n",
              "      border-color: transparent;\n",
              "      border-left-color: var(--fill-color);\n",
              "      border-top-color: var(--fill-color);\n",
              "      border-right-color: var(--fill-color);\n",
              "    }\n",
              "    40% {\n",
              "      border-color: transparent;\n",
              "      border-right-color: var(--fill-color);\n",
              "      border-top-color: var(--fill-color);\n",
              "    }\n",
              "    60% {\n",
              "      border-color: transparent;\n",
              "      border-right-color: var(--fill-color);\n",
              "    }\n",
              "    80% {\n",
              "      border-color: transparent;\n",
              "      border-right-color: var(--fill-color);\n",
              "      border-bottom-color: var(--fill-color);\n",
              "    }\n",
              "    90% {\n",
              "      border-color: transparent;\n",
              "      border-bottom-color: var(--fill-color);\n",
              "    }\n",
              "  }\n",
              "</style>\n",
              "\n",
              "      <script>\n",
              "        async function quickchart(key) {\n",
              "          const quickchartButtonEl =\n",
              "            document.querySelector('#' + key + ' button');\n",
              "          quickchartButtonEl.disabled = true;  // To prevent multiple clicks.\n",
              "          quickchartButtonEl.classList.add('colab-df-spinner');\n",
              "          try {\n",
              "            const charts = await google.colab.kernel.invokeFunction(\n",
              "                'suggestCharts', [key], {});\n",
              "          } catch (error) {\n",
              "            console.error('Error during call to suggestCharts:', error);\n",
              "          }\n",
              "          quickchartButtonEl.classList.remove('colab-df-spinner');\n",
              "          quickchartButtonEl.classList.add('colab-df-quickchart-complete');\n",
              "        }\n",
              "        (() => {\n",
              "          let quickchartButtonEl =\n",
              "            document.querySelector('#df-c52f0281-31ff-497d-8918-e153940eb477 button');\n",
              "          quickchartButtonEl.style.display =\n",
              "            google.colab.kernel.accessAllowed ? 'block' : 'none';\n",
              "        })();\n",
              "      </script>\n",
              "    </div>\n",
              "\n",
              "  <div id=\"id_a905a26a-4ce5-43c7-bb67-35084d91b38d\">\n",
              "    <style>\n",
              "      .colab-df-generate {\n",
              "        background-color: #E8F0FE;\n",
              "        border: none;\n",
              "        border-radius: 50%;\n",
              "        cursor: pointer;\n",
              "        display: none;\n",
              "        fill: #1967D2;\n",
              "        height: 32px;\n",
              "        padding: 0 0 0 0;\n",
              "        width: 32px;\n",
              "      }\n",
              "\n",
              "      .colab-df-generate:hover {\n",
              "        background-color: #E2EBFA;\n",
              "        box-shadow: 0px 1px 2px rgba(60, 64, 67, 0.3), 0px 1px 3px 1px rgba(60, 64, 67, 0.15);\n",
              "        fill: #174EA6;\n",
              "      }\n",
              "\n",
              "      [theme=dark] .colab-df-generate {\n",
              "        background-color: #3B4455;\n",
              "        fill: #D2E3FC;\n",
              "      }\n",
              "\n",
              "      [theme=dark] .colab-df-generate:hover {\n",
              "        background-color: #434B5C;\n",
              "        box-shadow: 0px 1px 3px 1px rgba(0, 0, 0, 0.15);\n",
              "        filter: drop-shadow(0px 1px 2px rgba(0, 0, 0, 0.3));\n",
              "        fill: #FFFFFF;\n",
              "      }\n",
              "    </style>\n",
              "    <button class=\"colab-df-generate\" onclick=\"generateWithVariable('d')\"\n",
              "            title=\"Generate code using this dataframe.\"\n",
              "            style=\"display:none;\">\n",
              "\n",
              "  <svg xmlns=\"http://www.w3.org/2000/svg\" height=\"24px\"viewBox=\"0 0 24 24\"\n",
              "       width=\"24px\">\n",
              "    <path d=\"M7,19H8.4L18.45,9,17,7.55,7,17.6ZM5,21V16.75L18.45,3.32a2,2,0,0,1,2.83,0l1.4,1.43a1.91,1.91,0,0,1,.58,1.4,1.91,1.91,0,0,1-.58,1.4L9.25,21ZM18.45,9,17,7.55Zm-12,3A5.31,5.31,0,0,0,4.9,8.1,5.31,5.31,0,0,0,1,6.5,5.31,5.31,0,0,0,4.9,4.9,5.31,5.31,0,0,0,6.5,1,5.31,5.31,0,0,0,8.1,4.9,5.31,5.31,0,0,0,12,6.5,5.46,5.46,0,0,0,6.5,12Z\"/>\n",
              "  </svg>\n",
              "    </button>\n",
              "    <script>\n",
              "      (() => {\n",
              "      const buttonEl =\n",
              "        document.querySelector('#id_a905a26a-4ce5-43c7-bb67-35084d91b38d button.colab-df-generate');\n",
              "      buttonEl.style.display =\n",
              "        google.colab.kernel.accessAllowed ? 'block' : 'none';\n",
              "\n",
              "      buttonEl.onclick = () => {\n",
              "        google.colab.notebook.generateWithVariable('d');\n",
              "      }\n",
              "      })();\n",
              "    </script>\n",
              "  </div>\n",
              "\n",
              "    </div>\n",
              "  </div>\n"
            ],
            "application/vnd.google.colaboratory.intrinsic+json": {
              "type": "dataframe",
              "variable_name": "d"
            }
          },
          "metadata": {},
          "execution_count": 4
        }
      ],
      "execution_count": 4
    },
    {
      "cell_type": "code",
      "source": [
        "d.info()"
      ],
      "metadata": {
        "trusted": true,
        "execution": {
          "iopub.status.busy": "2025-05-03T11:43:51.696376Z",
          "iopub.execute_input": "2025-05-03T11:43:51.696879Z",
          "iopub.status.idle": "2025-05-03T11:43:51.724553Z",
          "shell.execute_reply.started": "2025-05-03T11:43:51.696862Z",
          "shell.execute_reply": "2025-05-03T11:43:51.723721Z"
        },
        "colab": {
          "base_uri": "https://localhost:8080/"
        },
        "id": "PnUg_LOv7zis",
        "outputId": "375e7957-0e1e-4a98-8f90-b5466203418d"
      },
      "outputs": [
        {
          "output_type": "stream",
          "name": "stdout",
          "text": [
            "<class 'pandas.core.frame.DataFrame'>\n",
            "RangeIndex: 24386900 entries, 0 to 24386899\n",
            "Data columns (total 15 columns):\n",
            " #   Column          Dtype  \n",
            "---  ------          -----  \n",
            " 0   User            int64  \n",
            " 1   Card            int64  \n",
            " 2   Year            int64  \n",
            " 3   Month           int64  \n",
            " 4   Day             int64  \n",
            " 5   Time            object \n",
            " 6   Amount          object \n",
            " 7   Use Chip        object \n",
            " 8   Merchant Name   int64  \n",
            " 9   Merchant City   object \n",
            " 10  Merchant State  object \n",
            " 11  Zip             float64\n",
            " 12  MCC             int64  \n",
            " 13  Errors?         object \n",
            " 14  Is Fraud?       object \n",
            "dtypes: float64(1), int64(7), object(7)\n",
            "memory usage: 2.7+ GB\n"
          ]
        }
      ],
      "execution_count": 5
    },
    {
      "cell_type": "code",
      "source": [],
      "metadata": {
        "id": "S9XojrBIQi16",
        "outputId": "1730575c-23f8-426d-f17f-2fa631f1a2a3",
        "colab": {
          "base_uri": "https://localhost:8080/",
          "height": 319
        }
      },
      "execution_count": 6,
      "outputs": [
        {
          "output_type": "error",
          "ename": "MessageError",
          "evalue": "Error: credential propagation was unsuccessful",
          "traceback": [
            "\u001b[0;31m---------------------------------------------------------------------------\u001b[0m",
            "\u001b[0;31mMessageError\u001b[0m                              Traceback (most recent call last)",
            "\u001b[0;32m/tmp/ipython-input-6-1408506528.py\u001b[0m in \u001b[0;36m<cell line: 0>\u001b[0;34m()\u001b[0m\n\u001b[1;32m      1\u001b[0m \u001b[0;32mfrom\u001b[0m \u001b[0mgoogle\u001b[0m\u001b[0;34m.\u001b[0m\u001b[0mcolab\u001b[0m \u001b[0;32mimport\u001b[0m \u001b[0mdrive\u001b[0m\u001b[0;34m\u001b[0m\u001b[0;34m\u001b[0m\u001b[0m\n\u001b[0;32m----> 2\u001b[0;31m \u001b[0mdrive\u001b[0m\u001b[0;34m.\u001b[0m\u001b[0mmount\u001b[0m\u001b[0;34m(\u001b[0m\u001b[0;34m'/content/drive'\u001b[0m\u001b[0;34m)\u001b[0m\u001b[0;34m\u001b[0m\u001b[0;34m\u001b[0m\u001b[0m\n\u001b[0m",
            "\u001b[0;32m/usr/local/lib/python3.11/dist-packages/google/colab/drive.py\u001b[0m in \u001b[0;36mmount\u001b[0;34m(mountpoint, force_remount, timeout_ms, readonly)\u001b[0m\n\u001b[1;32m     98\u001b[0m \u001b[0;32mdef\u001b[0m \u001b[0mmount\u001b[0m\u001b[0;34m(\u001b[0m\u001b[0mmountpoint\u001b[0m\u001b[0;34m,\u001b[0m \u001b[0mforce_remount\u001b[0m\u001b[0;34m=\u001b[0m\u001b[0;32mFalse\u001b[0m\u001b[0;34m,\u001b[0m \u001b[0mtimeout_ms\u001b[0m\u001b[0;34m=\u001b[0m\u001b[0;36m120000\u001b[0m\u001b[0;34m,\u001b[0m \u001b[0mreadonly\u001b[0m\u001b[0;34m=\u001b[0m\u001b[0;32mFalse\u001b[0m\u001b[0;34m)\u001b[0m\u001b[0;34m:\u001b[0m\u001b[0;34m\u001b[0m\u001b[0;34m\u001b[0m\u001b[0m\n\u001b[1;32m     99\u001b[0m   \u001b[0;34m\"\"\"Mount your Google Drive at the specified mountpoint path.\"\"\"\u001b[0m\u001b[0;34m\u001b[0m\u001b[0;34m\u001b[0m\u001b[0m\n\u001b[0;32m--> 100\u001b[0;31m   return _mount(\n\u001b[0m\u001b[1;32m    101\u001b[0m       \u001b[0mmountpoint\u001b[0m\u001b[0;34m,\u001b[0m\u001b[0;34m\u001b[0m\u001b[0;34m\u001b[0m\u001b[0m\n\u001b[1;32m    102\u001b[0m       \u001b[0mforce_remount\u001b[0m\u001b[0;34m=\u001b[0m\u001b[0mforce_remount\u001b[0m\u001b[0;34m,\u001b[0m\u001b[0;34m\u001b[0m\u001b[0;34m\u001b[0m\u001b[0m\n",
            "\u001b[0;32m/usr/local/lib/python3.11/dist-packages/google/colab/drive.py\u001b[0m in \u001b[0;36m_mount\u001b[0;34m(mountpoint, force_remount, timeout_ms, ephemeral, readonly)\u001b[0m\n\u001b[1;32m    135\u001b[0m   )\n\u001b[1;32m    136\u001b[0m   \u001b[0;32mif\u001b[0m \u001b[0mephemeral\u001b[0m\u001b[0;34m:\u001b[0m\u001b[0;34m\u001b[0m\u001b[0;34m\u001b[0m\u001b[0m\n\u001b[0;32m--> 137\u001b[0;31m     _message.blocking_request(\n\u001b[0m\u001b[1;32m    138\u001b[0m         \u001b[0;34m'request_auth'\u001b[0m\u001b[0;34m,\u001b[0m\u001b[0;34m\u001b[0m\u001b[0;34m\u001b[0m\u001b[0m\n\u001b[1;32m    139\u001b[0m         \u001b[0mrequest\u001b[0m\u001b[0;34m=\u001b[0m\u001b[0;34m{\u001b[0m\u001b[0;34m'authType'\u001b[0m\u001b[0;34m:\u001b[0m \u001b[0;34m'dfs_ephemeral'\u001b[0m\u001b[0;34m}\u001b[0m\u001b[0;34m,\u001b[0m\u001b[0;34m\u001b[0m\u001b[0;34m\u001b[0m\u001b[0m\n",
            "\u001b[0;32m/usr/local/lib/python3.11/dist-packages/google/colab/_message.py\u001b[0m in \u001b[0;36mblocking_request\u001b[0;34m(request_type, request, timeout_sec, parent)\u001b[0m\n\u001b[1;32m    174\u001b[0m       \u001b[0mrequest_type\u001b[0m\u001b[0;34m,\u001b[0m \u001b[0mrequest\u001b[0m\u001b[0;34m,\u001b[0m \u001b[0mparent\u001b[0m\u001b[0;34m=\u001b[0m\u001b[0mparent\u001b[0m\u001b[0;34m,\u001b[0m \u001b[0mexpect_reply\u001b[0m\u001b[0;34m=\u001b[0m\u001b[0;32mTrue\u001b[0m\u001b[0;34m\u001b[0m\u001b[0;34m\u001b[0m\u001b[0m\n\u001b[1;32m    175\u001b[0m   )\n\u001b[0;32m--> 176\u001b[0;31m   \u001b[0;32mreturn\u001b[0m \u001b[0mread_reply_from_input\u001b[0m\u001b[0;34m(\u001b[0m\u001b[0mrequest_id\u001b[0m\u001b[0;34m,\u001b[0m \u001b[0mtimeout_sec\u001b[0m\u001b[0;34m)\u001b[0m\u001b[0;34m\u001b[0m\u001b[0;34m\u001b[0m\u001b[0m\n\u001b[0m",
            "\u001b[0;32m/usr/local/lib/python3.11/dist-packages/google/colab/_message.py\u001b[0m in \u001b[0;36mread_reply_from_input\u001b[0;34m(message_id, timeout_sec)\u001b[0m\n\u001b[1;32m    101\u001b[0m     ):\n\u001b[1;32m    102\u001b[0m       \u001b[0;32mif\u001b[0m \u001b[0;34m'error'\u001b[0m \u001b[0;32min\u001b[0m \u001b[0mreply\u001b[0m\u001b[0;34m:\u001b[0m\u001b[0;34m\u001b[0m\u001b[0;34m\u001b[0m\u001b[0m\n\u001b[0;32m--> 103\u001b[0;31m         \u001b[0;32mraise\u001b[0m \u001b[0mMessageError\u001b[0m\u001b[0;34m(\u001b[0m\u001b[0mreply\u001b[0m\u001b[0;34m[\u001b[0m\u001b[0;34m'error'\u001b[0m\u001b[0;34m]\u001b[0m\u001b[0;34m)\u001b[0m\u001b[0;34m\u001b[0m\u001b[0;34m\u001b[0m\u001b[0m\n\u001b[0m\u001b[1;32m    104\u001b[0m       \u001b[0;32mreturn\u001b[0m \u001b[0mreply\u001b[0m\u001b[0;34m.\u001b[0m\u001b[0mget\u001b[0m\u001b[0;34m(\u001b[0m\u001b[0;34m'data'\u001b[0m\u001b[0;34m,\u001b[0m \u001b[0;32mNone\u001b[0m\u001b[0;34m)\u001b[0m\u001b[0;34m\u001b[0m\u001b[0;34m\u001b[0m\u001b[0m\n\u001b[1;32m    105\u001b[0m \u001b[0;34m\u001b[0m\u001b[0m\n",
            "\u001b[0;31mMessageError\u001b[0m: Error: credential propagation was unsuccessful"
          ]
        }
      ]
    },
    {
      "cell_type": "code",
      "source": [
        "\n",
        "# Assuming you have a DataFrame 'df' and a categorical feature 'feature_name'\n",
        "feature_name = 'Is Fraud?'\n",
        "\n",
        "# 1. Frequency count of each category\n",
        "category_counts = d[feature_name].value_counts()\n",
        "print(\"Category counts:\\n\", category_counts)\n",
        "\n",
        "# 2. Plot a bar plot of the categorical feature\n",
        "plt.figure(figsize=(8, 6))\n",
        "sns.countplot(x=d[feature_name])\n",
        "plt.title(f'Distribution of {feature_name}')\n",
        "plt.xlabel(feature_name)\n",
        "plt.ylabel('Frequency')\n",
        "plt.xticks(rotation=45)  # Rotate x-axis labels if they are long\n",
        "plt.show()\n",
        "\n",
        "# 3. Calculate and print the proportions of each category\n",
        "category_proportions = d[feature_name].value_counts(normalize=True)\n",
        "print(\"Category proportions:\\n\", category_proportions)\n"
      ],
      "metadata": {
        "trusted": true,
        "execution": {
          "iopub.status.busy": "2025-05-03T11:43:51.725242Z",
          "iopub.execute_input": "2025-05-03T11:43:51.725441Z",
          "iopub.status.idle": "2025-05-03T11:44:06.056963Z",
          "shell.execute_reply.started": "2025-05-03T11:43:51.725426Z",
          "shell.execute_reply": "2025-05-03T11:44:06.056168Z"
        },
        "colab": {
          "base_uri": "https://localhost:8080/",
          "height": 761
        },
        "id": "ll5b53417zis",
        "outputId": "fc84936e-93f3-49ea-b1e7-17ac1312139e"
      },
      "outputs": [
        {
          "output_type": "stream",
          "name": "stdout",
          "text": [
            "Category counts:\n",
            " Is Fraud?\n",
            "No     24357143\n",
            "Yes       29757\n",
            "Name: count, dtype: int64\n"
          ]
        },
        {
          "output_type": "display_data",
          "data": {
            "text/plain": [
              "<Figure size 800x600 with 1 Axes>"
            ],
            "image/png": "[encoded data removed]"
          },
          "metadata": {}
        },
        {
          "output_type": "stream",
          "name": "stdout",
          "text": [
            "Category proportions:\n",
            " Is Fraud?\n",
            "No     0.99878\n",
            "Yes    0.00122\n",
            "Name: proportion, dtype: float64\n"
          ]
        }
      ],
      "execution_count": 12
    },
    {
      "cell_type": "code",
      "source": [
        "# Check the number of fraudulent transactions\n",
        "d['Is Fraud?'].value_counts()"
      ],
      "metadata": {
        "colab": {
          "base_uri": "https://localhost:8080/",
          "height": 178
        },
        "id": "WwmEP0T_HKPP",
        "outputId": "e4543cc9-d442-45fe-9954-eaf4da11224f"
      },
      "execution_count": 13,
      "outputs": [
        {
          "output_type": "execute_result",
          "data": {
            "text/plain": [
              "Is Fraud?\n",
              "No     24357143\n",
              "Yes       29757\n",
              "Name: count, dtype: int64"
            ],
            "text/html": [
              "<div>\n",
              "<style scoped>\n",
              "    .dataframe tbody tr th:only-of-type {\n",
              "        vertical-align: middle;\n",
              "    }\n",
              "\n",
              "    .dataframe tbody tr th {\n",
              "        vertical-align: top;\n",
              "    }\n",
              "\n",
              "    .dataframe thead th {\n",
              "        text-align: right;\n",
              "    }\n",
              "</style>\n",
              "<table border=\"1\" class=\"dataframe\">\n",
              "  <thead>\n",
              "    <tr style=\"text-align: right;\">\n",
              "      <th></th>\n",
              "      <th>count</th>\n",
              "    </tr>\n",
              "    <tr>\n",
              "      <th>Is Fraud?</th>\n",
              "      <th></th>\n",
              "    </tr>\n",
              "  </thead>\n",
              "  <tbody>\n",
              "    <tr>\n",
              "      <th>No</th>\n",
              "      <td>24357143</td>\n",
              "    </tr>\n",
              "    <tr>\n",
              "      <th>Yes</th>\n",
              "      <td>29757</td>\n",
              "    </tr>\n",
              "  </tbody>\n",
              "</table>\n",
              "</div><br><label><b>dtype:</b> int64</label>"
            ]
          },
          "metadata": {},
          "execution_count": 13
        }
      ]
    },
    {
      "cell_type": "code",
      "source": [
        "# Check missing value by column\n",
        "d.isnull().sum()"
      ],
      "metadata": {
        "colab": {
          "base_uri": "https://localhost:8080/",
          "height": 166
        },
        "id": "-NlFBgWQHHul",
        "outputId": "7e0730e5-5622-48e3-cd08-87e2ee86679f"
      },
      "execution_count": 4,
      "outputs": [
        {
          "output_type": "error",
          "ename": "NameError",
          "evalue": "name 'd' is not defined",
          "traceback": [
            "\u001b[0;31m---------------------------------------------------------------------------\u001b[0m",
            "\u001b[0;31mNameError\u001b[0m                                 Traceback (most recent call last)",
            "\u001b[0;32m/tmp/ipython-input-4-2672552923.py\u001b[0m in \u001b[0;36m<cell line: 0>\u001b[0;34m()\u001b[0m\n\u001b[1;32m      1\u001b[0m \u001b[0;31m# Check missing value by column\u001b[0m\u001b[0;34m\u001b[0m\u001b[0;34m\u001b[0m\u001b[0m\n\u001b[0;32m----> 2\u001b[0;31m \u001b[0md\u001b[0m\u001b[0;34m.\u001b[0m\u001b[0misnull\u001b[0m\u001b[0;34m(\u001b[0m\u001b[0;34m)\u001b[0m\u001b[0;34m.\u001b[0m\u001b[0msum\u001b[0m\u001b[0;34m(\u001b[0m\u001b[0;34m)\u001b[0m\u001b[0;34m\u001b[0m\u001b[0;34m\u001b[0m\u001b[0m\n\u001b[0m",
            "\u001b[0;31mNameError\u001b[0m: name 'd' is not defined"
          ]
        }
      ]
    },
    {
      "cell_type": "code",
      "source": [
        "# We need to strip the '$' from the Amount to cast as a float\n",
        "d[\"Amount\"]=d[\"Amount\"].str.replace(\"$\",\"\").astype(float)"
      ],
      "metadata": {
        "id": "hUXXx3JiHKMI"
      },
      "execution_count": 15,
      "outputs": []
    },
    {
      "cell_type": "code",
      "source": [
        "# Now, we have transformed the datatype of Amount from object to float\n",
        "d.Amount.head(5)"
      ],
      "metadata": {
        "colab": {
          "base_uri": "https://localhost:8080/",
          "height": 166
        },
        "id": "KLyC3fCFHKJQ",
        "outputId": "8a1f9d22-a61e-404f-b532-18e3a2343f4c"
      },
      "execution_count": 3,
      "outputs": [
        {
          "output_type": "error",
          "ename": "NameError",
          "evalue": "name 'd' is not defined",
          "traceback": [
            "\u001b[0;31m---------------------------------------------------------------------------\u001b[0m",
            "\u001b[0;31mNameError\u001b[0m                                 Traceback (most recent call last)",
            "\u001b[0;32m/tmp/ipython-input-3-1900595797.py\u001b[0m in \u001b[0;36m<cell line: 0>\u001b[0;34m()\u001b[0m\n\u001b[1;32m      1\u001b[0m \u001b[0;31m# Now, we have transformed the datatype of Amount from object to float\u001b[0m\u001b[0;34m\u001b[0m\u001b[0;34m\u001b[0m\u001b[0m\n\u001b[0;32m----> 2\u001b[0;31m \u001b[0md\u001b[0m\u001b[0;34m.\u001b[0m\u001b[0mAmount\u001b[0m\u001b[0;34m.\u001b[0m\u001b[0mhead\u001b[0m\u001b[0;34m(\u001b[0m\u001b[0;36m5\u001b[0m\u001b[0;34m)\u001b[0m\u001b[0;34m\u001b[0m\u001b[0;34m\u001b[0m\u001b[0m\n\u001b[0m",
            "\u001b[0;31mNameError\u001b[0m: name 'd' is not defined"
          ]
        }
      ]
    },
    {
      "cell_type": "code",
      "source": [
        "d.Time.head(5)"
      ],
      "metadata": {
        "colab": {
          "base_uri": "https://localhost:8080/",
          "height": 241
        },
        "id": "ghZ6VFd9HKFy",
        "outputId": "d8455b2b-8785-442c-b0b9-ca7affe53033"
      },
      "execution_count": 17,
      "outputs": [
        {
          "output_type": "execute_result",
          "data": {
            "text/plain": [
              "0    06:21\n",
              "1    06:42\n",
              "2    06:22\n",
              "3    17:45\n",
              "4    06:23\n",
              "Name: Time, dtype: object"
            ],
            "text/html": [
              "<div>\n",
              "<style scoped>\n",
              "    .dataframe tbody tr th:only-of-type {\n",
              "        vertical-align: middle;\n",
              "    }\n",
              "\n",
              "    .dataframe tbody tr th {\n",
              "        vertical-align: top;\n",
              "    }\n",
              "\n",
              "    .dataframe thead th {\n",
              "        text-align: right;\n",
              "    }\n",
              "</style>\n",
              "<table border=\"1\" class=\"dataframe\">\n",
              "  <thead>\n",
              "    <tr style=\"text-align: right;\">\n",
              "      <th></th>\n",
              "      <th>Time</th>\n",
              "    </tr>\n",
              "  </thead>\n",
              "  <tbody>\n",
              "    <tr>\n",
              "      <th>0</th>\n",
              "      <td>06:21</td>\n",
              "    </tr>\n",
              "    <tr>\n",
              "      <th>1</th>\n",
              "      <td>06:42</td>\n",
              "    </tr>\n",
              "    <tr>\n",
              "      <th>2</th>\n",
              "      <td>06:22</td>\n",
              "    </tr>\n",
              "    <tr>\n",
              "      <th>3</th>\n",
              "      <td>17:45</td>\n",
              "    </tr>\n",
              "    <tr>\n",
              "      <th>4</th>\n",
              "      <td>06:23</td>\n",
              "    </tr>\n",
              "  </tbody>\n",
              "</table>\n",
              "</div><br><label><b>dtype:</b> object</label>"
            ]
          },
          "metadata": {},
          "execution_count": 17
        }
      ]
    },
    {
      "cell_type": "code",
      "source": [
        "# Extract the hour and minute to perform a more refined time series analysis\n",
        "d[\"Hour\"] = d[\"Time\"].str [0:2]\n",
        "d[\"Minute\"] = d[\"Time\"].str [3:5]\n",
        "d = d.drop(['Time'],axis=1)"
      ],
      "metadata": {
        "colab": {
          "base_uri": "https://localhost:8080/",
          "height": 203
        },
        "id": "x4MZBZt4HfjF",
        "outputId": "55759c5f-bcd3-4b5c-f007-2de59b467358"
      },
      "execution_count": 2,
      "outputs": [
        {
          "output_type": "error",
          "ename": "NameError",
          "evalue": "name 'd' is not defined",
          "traceback": [
            "\u001b[0;31m---------------------------------------------------------------------------\u001b[0m",
            "\u001b[0;31mNameError\u001b[0m                                 Traceback (most recent call last)",
            "\u001b[0;32m/tmp/ipython-input-2-1055125259.py\u001b[0m in \u001b[0;36m<cell line: 0>\u001b[0;34m()\u001b[0m\n\u001b[1;32m      1\u001b[0m \u001b[0;31m# Extract the hour and minute to perform a more refined time series analysis\u001b[0m\u001b[0;34m\u001b[0m\u001b[0;34m\u001b[0m\u001b[0m\n\u001b[0;32m----> 2\u001b[0;31m \u001b[0md\u001b[0m\u001b[0;34m[\u001b[0m\u001b[0;34m\"Hour\"\u001b[0m\u001b[0;34m]\u001b[0m \u001b[0;34m=\u001b[0m \u001b[0md\u001b[0m\u001b[0;34m[\u001b[0m\u001b[0;34m\"Time\"\u001b[0m\u001b[0;34m]\u001b[0m\u001b[0;34m.\u001b[0m\u001b[0mstr\u001b[0m \u001b[0;34m[\u001b[0m\u001b[0;36m0\u001b[0m\u001b[0;34m:\u001b[0m\u001b[0;36m2\u001b[0m\u001b[0;34m]\u001b[0m\u001b[0;34m\u001b[0m\u001b[0;34m\u001b[0m\u001b[0m\n\u001b[0m\u001b[1;32m      3\u001b[0m \u001b[0md\u001b[0m\u001b[0;34m[\u001b[0m\u001b[0;34m\"Minute\"\u001b[0m\u001b[0;34m]\u001b[0m \u001b[0;34m=\u001b[0m \u001b[0md\u001b[0m\u001b[0;34m[\u001b[0m\u001b[0;34m\"Time\"\u001b[0m\u001b[0;34m]\u001b[0m\u001b[0;34m.\u001b[0m\u001b[0mstr\u001b[0m \u001b[0;34m[\u001b[0m\u001b[0;36m3\u001b[0m\u001b[0;34m:\u001b[0m\u001b[0;36m5\u001b[0m\u001b[0;34m]\u001b[0m\u001b[0;34m\u001b[0m\u001b[0;34m\u001b[0m\u001b[0m\n\u001b[1;32m      4\u001b[0m \u001b[0md\u001b[0m \u001b[0;34m=\u001b[0m \u001b[0md\u001b[0m\u001b[0;34m.\u001b[0m\u001b[0mdrop\u001b[0m\u001b[0;34m(\u001b[0m\u001b[0;34m[\u001b[0m\u001b[0;34m'Time'\u001b[0m\u001b[0;34m]\u001b[0m\u001b[0;34m,\u001b[0m\u001b[0maxis\u001b[0m\u001b[0;34m=\u001b[0m\u001b[0;36m1\u001b[0m\u001b[0;34m)\u001b[0m\u001b[0;34m\u001b[0m\u001b[0;34m\u001b[0m\u001b[0m\n",
            "\u001b[0;31mNameError\u001b[0m: name 'd' is not defined"
          ]
        }
      ]
    },
    {
      "cell_type": "code",
      "source": [
        "# change the is fraud column to binary\n",
        "d[\"Is Fraud?\"] = d[\"Is Fraud?\"].apply(lambda x: 1 if x == 'Yes' else 0)"
      ],
      "metadata": {
        "id": "Oh85g8CoHKCo"
      },
      "execution_count": null,
      "outputs": []
    },
    {
      "cell_type": "code",
      "source": [],
      "metadata": {
        "id": "PIvvEINvISEj"
      },
      "execution_count": null,
      "outputs": []
    },
    {
      "cell_type": "code",
      "source": [],
      "metadata": {
        "id": "Xx6m7A--IRdc"
      },
      "execution_count": null,
      "outputs": []
    },
    {
      "cell_type": "code",
      "source": [],
      "metadata": {
        "id": "t7lfbZyvIRQ2"
      },
      "execution_count": null,
      "outputs": []
    },
    {
      "cell_type": "markdown",
      "source": [
        "# STRATEGIC SAMPLING DUE TO HUGE CLASS-IMBALANCE"
      ],
      "metadata": {
        "id": "h3xsaqzq7zit"
      }
    },
    {
      "cell_type": "markdown",
      "source": [
        "The fraudulent trasactions amount to nearly just one percent of the total transactions. So, ther is a huge class imbalance problem. A strategic sampling technique is used so as to maintain a reasonable balance of 30-70 between the two classes."
      ],
      "metadata": {
        "id": "zPx3L6bg7ziu"
      }
    },
    {
      "cell_type": "code",
      "source": [
        "\n",
        "fraud_d = d[d['Is Fraud?'] == 'Yes']\n",
        "nonfraud_d = d[d['Is Fraud?'] == 'No'].sample(n=70000, random_state=42)\n",
        "df = pd.concat([fraud_d, nonfraud_d]).sample(frac=1, random_state=42)\n",
        "df"
      ],
      "metadata": {
        "trusted": true,
        "execution": {
          "iopub.status.busy": "2025-05-03T11:44:06.057789Z",
          "iopub.execute_input": "2025-05-03T11:44:06.058109Z",
          "iopub.status.idle": "2025-05-03T11:44:13.303172Z",
          "shell.execute_reply.started": "2025-05-03T11:44:06.058069Z",
          "shell.execute_reply": "2025-05-03T11:44:13.302384Z"
        },
        "colab": {
          "base_uri": "https://localhost:8080/",
          "height": 203
        },
        "id": "zG5xjeI37ziu",
        "outputId": "3be00b1c-483e-4f3f-ac3a-8a3b02589623"
      },
      "outputs": [
        {
          "output_type": "error",
          "ename": "NameError",
          "evalue": "name 'd' is not defined",
          "traceback": [
            "\u001b[0;31m---------------------------------------------------------------------------\u001b[0m",
            "\u001b[0;31mNameError\u001b[0m                                 Traceback (most recent call last)",
            "\u001b[0;32m/tmp/ipython-input-1-1795617323.py\u001b[0m in \u001b[0;36m<cell line: 0>\u001b[0;34m()\u001b[0m\n\u001b[0;32m----> 1\u001b[0;31m \u001b[0mfraud_d\u001b[0m \u001b[0;34m=\u001b[0m \u001b[0md\u001b[0m\u001b[0;34m[\u001b[0m\u001b[0md\u001b[0m\u001b[0;34m[\u001b[0m\u001b[0;34m'Is Fraud?'\u001b[0m\u001b[0;34m]\u001b[0m \u001b[0;34m==\u001b[0m \u001b[0;34m'Yes'\u001b[0m\u001b[0;34m]\u001b[0m\u001b[0;34m\u001b[0m\u001b[0;34m\u001b[0m\u001b[0m\n\u001b[0m\u001b[1;32m      2\u001b[0m \u001b[0mnonfraud_d\u001b[0m \u001b[0;34m=\u001b[0m \u001b[0md\u001b[0m\u001b[0;34m[\u001b[0m\u001b[0md\u001b[0m\u001b[0;34m[\u001b[0m\u001b[0;34m'Is Fraud?'\u001b[0m\u001b[0;34m]\u001b[0m \u001b[0;34m==\u001b[0m \u001b[0;34m'No'\u001b[0m\u001b[0;34m]\u001b[0m\u001b[0;34m.\u001b[0m\u001b[0msample\u001b[0m\u001b[0;34m(\u001b[0m\u001b[0mn\u001b[0m\u001b[0;34m=\u001b[0m\u001b[0;36m70000\u001b[0m\u001b[0;34m,\u001b[0m \u001b[0mrandom_state\u001b[0m\u001b[0;34m=\u001b[0m\u001b[0;36m42\u001b[0m\u001b[0;34m)\u001b[0m\u001b[0;34m\u001b[0m\u001b[0;34m\u001b[0m\u001b[0m\n\u001b[1;32m      3\u001b[0m \u001b[0mdf\u001b[0m \u001b[0;34m=\u001b[0m \u001b[0mpd\u001b[0m\u001b[0;34m.\u001b[0m\u001b[0mconcat\u001b[0m\u001b[0;34m(\u001b[0m\u001b[0;34m[\u001b[0m\u001b[0mfraud_d\u001b[0m\u001b[0;34m,\u001b[0m \u001b[0mnonfraud_d\u001b[0m\u001b[0;34m]\u001b[0m\u001b[0;34m)\u001b[0m\u001b[0;34m.\u001b[0m\u001b[0msample\u001b[0m\u001b[0;34m(\u001b[0m\u001b[0mfrac\u001b[0m\u001b[0;34m=\u001b[0m\u001b[0;36m1\u001b[0m\u001b[0;34m,\u001b[0m \u001b[0mrandom_state\u001b[0m\u001b[0;34m=\u001b[0m\u001b[0;36m42\u001b[0m\u001b[0;34m)\u001b[0m\u001b[0;34m\u001b[0m\u001b[0;34m\u001b[0m\u001b[0m\n\u001b[1;32m      4\u001b[0m \u001b[0mdf\u001b[0m\u001b[0;34m\u001b[0m\u001b[0;34m\u001b[0m\u001b[0m\n",
            "\u001b[0;31mNameError\u001b[0m: name 'd' is not defined"
          ]
        }
      ],
      "execution_count": 1
    },
    {
      "cell_type": "code",
      "source": [
        "df2 = df\n",
        "df2"
      ],
      "metadata": {
        "trusted": true,
        "execution": {
          "iopub.status.busy": "2025-05-03T11:44:13.304153Z",
          "iopub.execute_input": "2025-05-03T11:44:13.304526Z",
          "iopub.status.idle": "2025-05-03T11:44:13.31954Z",
          "shell.execute_reply.started": "2025-05-03T11:44:13.304451Z",
          "shell.execute_reply": "2025-05-03T11:44:13.318783Z"
        },
        "id": "yE4fE6Mt7ziu"
      },
      "outputs": [],
      "execution_count": null
    },
    {
      "cell_type": "markdown",
      "source": [
        "# PRE-PROCESSING OF DATA"
      ],
      "metadata": {
        "id": "OoIpZgBI7ziu"
      }
    },
    {
      "cell_type": "code",
      "source": [
        "\n",
        "\n",
        "df[\"Amount\"] = df[\"Amount\"].replace('[\\$,]', '', regex=True).astype(float)\n",
        "df[\"Is Fraud?\"] = df[\"Is Fraud?\"].apply(lambda x: 1 if x == 'Yes' else 0)\n",
        "df[\"Errors?\"] = df[\"Errors?\"].fillna(\"No error\")\n",
        "# df = df[df[\"Errors?\"] != \"No error\"]\n",
        "df[\"card_id\"] = df[\"User\"].astype(str) + \"_\" + df[\"Card\"].astype(str)\n",
        "df = df.drop(columns=[\"Time\", \"User\", \"Card\", \"Merchant State\", \"Zip\"])\n",
        "df[\"Merchant City\"] = LabelEncoder().fit_transform(df[\"Merchant City\"])\n",
        "df[\"Use Chip\"] = LabelEncoder().fit_transform(df[\"Use Chip\"])"
      ],
      "metadata": {
        "trusted": true,
        "execution": {
          "iopub.status.busy": "2025-05-03T11:44:13.32016Z",
          "iopub.execute_input": "2025-05-03T11:44:13.320354Z",
          "iopub.status.idle": "2025-05-03T11:44:13.571514Z",
          "shell.execute_reply.started": "2025-05-03T11:44:13.320339Z",
          "shell.execute_reply": "2025-05-03T11:44:13.570946Z"
        },
        "colab": {
          "base_uri": "https://localhost:8080/",
          "height": 222
        },
        "id": "NpzFFGNd7ziu",
        "outputId": "8d293d47-d26c-47d6-b7ad-56f9b9174a74"
      },
      "outputs": [
        {
          "output_type": "error",
          "ename": "NameError",
          "evalue": "name 'df' is not defined",
          "traceback": [
            "\u001b[0;31m---------------------------------------------------------------------------\u001b[0m",
            "\u001b[0;31mNameError\u001b[0m                                 Traceback (most recent call last)",
            "\u001b[0;32m/tmp/ipython-input-10-2412803726.py\u001b[0m in \u001b[0;36m<cell line: 0>\u001b[0;34m()\u001b[0m\n\u001b[0;32m----> 1\u001b[0;31m \u001b[0mdf\u001b[0m\u001b[0;34m[\u001b[0m\u001b[0;34m\"Amount\"\u001b[0m\u001b[0;34m]\u001b[0m \u001b[0;34m=\u001b[0m \u001b[0mdf\u001b[0m\u001b[0;34m[\u001b[0m\u001b[0;34m\"Amount\"\u001b[0m\u001b[0;34m]\u001b[0m\u001b[0;34m.\u001b[0m\u001b[0mreplace\u001b[0m\u001b[0;34m(\u001b[0m\u001b[0;34m'[\\$,]'\u001b[0m\u001b[0;34m,\u001b[0m \u001b[0;34m''\u001b[0m\u001b[0;34m,\u001b[0m \u001b[0mregex\u001b[0m\u001b[0;34m=\u001b[0m\u001b[0;32mTrue\u001b[0m\u001b[0;34m)\u001b[0m\u001b[0;34m.\u001b[0m\u001b[0mastype\u001b[0m\u001b[0;34m(\u001b[0m\u001b[0mfloat\u001b[0m\u001b[0;34m)\u001b[0m\u001b[0;34m\u001b[0m\u001b[0;34m\u001b[0m\u001b[0m\n\u001b[0m\u001b[1;32m      2\u001b[0m \u001b[0mdf\u001b[0m\u001b[0;34m[\u001b[0m\u001b[0;34m\"Is Fraud?\"\u001b[0m\u001b[0;34m]\u001b[0m \u001b[0;34m=\u001b[0m \u001b[0mdf\u001b[0m\u001b[0;34m[\u001b[0m\u001b[0;34m\"Is Fraud?\"\u001b[0m\u001b[0;34m]\u001b[0m\u001b[0;34m.\u001b[0m\u001b[0mapply\u001b[0m\u001b[0;34m(\u001b[0m\u001b[0;32mlambda\u001b[0m \u001b[0mx\u001b[0m\u001b[0;34m:\u001b[0m \u001b[0;36m1\u001b[0m \u001b[0;32mif\u001b[0m \u001b[0mx\u001b[0m \u001b[0;34m==\u001b[0m \u001b[0;34m'Yes'\u001b[0m \u001b[0;32melse\u001b[0m \u001b[0;36m0\u001b[0m\u001b[0;34m)\u001b[0m\u001b[0;34m\u001b[0m\u001b[0;34m\u001b[0m\u001b[0m\n\u001b[1;32m      3\u001b[0m \u001b[0mdf\u001b[0m\u001b[0;34m[\u001b[0m\u001b[0;34m\"Errors?\"\u001b[0m\u001b[0;34m]\u001b[0m \u001b[0;34m=\u001b[0m \u001b[0mdf\u001b[0m\u001b[0;34m[\u001b[0m\u001b[0;34m\"Errors?\"\u001b[0m\u001b[0;34m]\u001b[0m\u001b[0;34m.\u001b[0m\u001b[0mfillna\u001b[0m\u001b[0;34m(\u001b[0m\u001b[0;34m\"No error\"\u001b[0m\u001b[0;34m)\u001b[0m\u001b[0;34m\u001b[0m\u001b[0;34m\u001b[0m\u001b[0m\n\u001b[1;32m      4\u001b[0m \u001b[0;31m# df = df[df[\"Errors?\"] != \"No error\"]\u001b[0m\u001b[0;34m\u001b[0m\u001b[0;34m\u001b[0m\u001b[0m\n\u001b[1;32m      5\u001b[0m \u001b[0mdf\u001b[0m\u001b[0;34m[\u001b[0m\u001b[0;34m\"card_id\"\u001b[0m\u001b[0;34m]\u001b[0m \u001b[0;34m=\u001b[0m \u001b[0mdf\u001b[0m\u001b[0;34m[\u001b[0m\u001b[0;34m\"User\"\u001b[0m\u001b[0;34m]\u001b[0m\u001b[0;34m.\u001b[0m\u001b[0mastype\u001b[0m\u001b[0;34m(\u001b[0m\u001b[0mstr\u001b[0m\u001b[0;34m)\u001b[0m \u001b[0;34m+\u001b[0m \u001b[0;34m\"_\"\u001b[0m \u001b[0;34m+\u001b[0m \u001b[0mdf\u001b[0m\u001b[0;34m[\u001b[0m\u001b[0;34m\"Card\"\u001b[0m\u001b[0;34m]\u001b[0m\u001b[0;34m.\u001b[0m\u001b[0mastype\u001b[0m\u001b[0;34m(\u001b[0m\u001b[0mstr\u001b[0m\u001b[0;34m)\u001b[0m\u001b[0;34m\u001b[0m\u001b[0;34m\u001b[0m\u001b[0m\n",
            "\u001b[0;31mNameError\u001b[0m: name 'df' is not defined"
          ]
        }
      ],
      "execution_count": 10
    },
    {
      "cell_type": "code",
      "source": [
        "df"
      ],
      "metadata": {
        "trusted": true,
        "execution": {
          "iopub.status.busy": "2025-05-03T11:44:13.572148Z",
          "iopub.execute_input": "2025-05-03T11:44:13.572324Z",
          "iopub.status.idle": "2025-05-03T11:44:13.583957Z",
          "shell.execute_reply.started": "2025-05-03T11:44:13.572311Z",
          "shell.execute_reply": "2025-05-03T11:44:13.583428Z"
        },
        "id": "eDWk7YCt7ziu"
      },
      "outputs": [],
      "execution_count": null
    },
    {
      "cell_type": "code",
      "source": [
        "df[\"Errors?\"] = LabelEncoder().fit_transform(df[\"Errors?\"])\n",
        "df"
      ],
      "metadata": {
        "trusted": true,
        "execution": {
          "iopub.status.busy": "2025-05-03T11:44:13.584587Z",
          "iopub.execute_input": "2025-05-03T11:44:13.584824Z",
          "iopub.status.idle": "2025-05-03T11:44:13.618766Z",
          "shell.execute_reply.started": "2025-05-03T11:44:13.584801Z",
          "shell.execute_reply": "2025-05-03T11:44:13.618156Z"
        },
        "id": "Byay5rZ57ziu"
      },
      "outputs": [],
      "execution_count": null
    },
    {
      "cell_type": "markdown",
      "source": [
        "## code to normalize year, month, day, amount,merchant city,mcc,"
      ],
      "metadata": {
        "id": "PrbkLrjc7ziv"
      }
    },
    {
      "cell_type": "code",
      "source": [
        "from sklearn.preprocessing import MinMaxScaler, LabelEncoder\n",
        "import pandas as pd\n",
        "\n",
        "# Assuming df is your DataFrame\n",
        "# Step 1: Normalize numeric columns (e.g., 'year', 'month', 'day', 'amount')\n",
        "numeric_columns = ['Year', 'Month', 'Day', 'Amount']\n",
        "\n",
        "scaler = MinMaxScaler()  # You can use StandardScaler() if you want Z-score normalization\n",
        "df[numeric_columns] = scaler.fit_transform(df[numeric_columns])\n",
        "\n",
        "# Step 2: Encode categorical columns (e.g., 'Merchant City' and 'MCC')\n",
        "# Use LabelEncoder for simplicity; One-Hot Encoding can be used if needed\n",
        "df['Merchant City'] = LabelEncoder().fit_transform(df['Merchant City'])\n",
        "df['MCC'] = LabelEncoder().fit_transform(df['MCC'])\n",
        "\n",
        "# Optional: If you want to apply One-Hot Encoding, you can use:\n",
        "# df = pd.get_dummies(df, columns=['Merchant City', 'MCC'], drop_first=True)\n",
        "\n",
        "# Step 3: Check the resulting DataFrame\n",
        "print(df.head())\n"
      ],
      "metadata": {
        "trusted": true,
        "execution": {
          "iopub.status.busy": "2025-05-03T11:44:13.619651Z",
          "iopub.execute_input": "2025-05-03T11:44:13.619887Z",
          "iopub.status.idle": "2025-05-03T11:44:13.660935Z",
          "shell.execute_reply.started": "2025-05-03T11:44:13.619872Z",
          "shell.execute_reply": "2025-05-03T11:44:13.660387Z"
        },
        "id": "JeFk0BV_7ziv"
      },
      "outputs": [],
      "execution_count": null
    },
    {
      "cell_type": "code",
      "source": [
        "df['Merchant Name'] = LabelEncoder().fit_transform(df['Merchant Name'])\n",
        "df"
      ],
      "metadata": {
        "trusted": true,
        "execution": {
          "iopub.status.busy": "2025-05-03T11:44:13.661603Z",
          "iopub.execute_input": "2025-05-03T11:44:13.661788Z",
          "iopub.status.idle": "2025-05-03T11:44:13.679734Z",
          "shell.execute_reply.started": "2025-05-03T11:44:13.661774Z",
          "shell.execute_reply": "2025-05-03T11:44:13.679183Z"
        },
        "id": "kkIyqUgk7ziv"
      },
      "outputs": [],
      "execution_count": null
    },
    {
      "cell_type": "code",
      "source": [
        "df.head(10)"
      ],
      "metadata": {
        "trusted": true,
        "execution": {
          "iopub.status.busy": "2025-05-03T11:44:13.682076Z",
          "iopub.execute_input": "2025-05-03T11:44:13.682282Z",
          "iopub.status.idle": "2025-05-03T11:44:13.691776Z",
          "shell.execute_reply.started": "2025-05-03T11:44:13.682268Z",
          "shell.execute_reply": "2025-05-03T11:44:13.691087Z"
        },
        "id": "EslSok8r7ziw"
      },
      "outputs": [],
      "execution_count": null
    },
    {
      "cell_type": "code",
      "source": [
        "# import os\n",
        "\n",
        "# # List all files in /kaggle/working/\n",
        "# for file in os.listdir('/kaggle/working'):\n",
        "#     print(file)\n"
      ],
      "metadata": {
        "trusted": true,
        "execution": {
          "iopub.status.busy": "2025-05-03T11:44:13.692481Z",
          "iopub.execute_input": "2025-05-03T11:44:13.692788Z",
          "iopub.status.idle": "2025-05-03T11:44:13.70479Z",
          "shell.execute_reply.started": "2025-05-03T11:44:13.692767Z",
          "shell.execute_reply": "2025-05-03T11:44:13.704201Z"
        },
        "id": "AedvJXM27ziw"
      },
      "outputs": [],
      "execution_count": null
    },
    {
      "cell_type": "markdown",
      "source": [
        "# Graph Construction"
      ],
      "metadata": {
        "id": "ri3ImAU-7ziw"
      }
    },
    {
      "cell_type": "code",
      "source": [
        "# Build graph\n",
        "G = nx.MultiGraph()\n",
        "# G= nx.\n",
        "G.add_nodes_from(df[\"card_id\"].unique(), type='card')\n",
        "G.add_nodes_from(df[\"Merchant Name\"].unique(), type='merchant')\n",
        "node_mapping = {node: idx for idx, node in enumerate(G.nodes)}\n",
        "\n",
        "total_edges = []\n",
        "edge_attrs = []\n",
        "labels = []\n",
        "for _, row in df.iterrows():\n",
        "    src = node_mapping[row[\"card_id\"]]\n",
        "    dst = node_mapping[row[\"Merchant Name\"]]\n",
        "    total_edges.append((src, dst))\n",
        "    edge_attrs.append([row[\"Amount\"], row[\"Merchant City\"], row[\"Use Chip\"],row[\"Year\"],row[\"Month\"],row[\"Day\"],row[\"Errors?\"]])\n",
        "    labels.append(row[\"Is Fraud?\"])\n",
        "\n",
        "edge_index = torch.tensor(np.array(total_edges).T, dtype=torch.long)\n",
        "edge_attr = torch.tensor(edge_attrs, dtype=torch.float)\n",
        "labels = torch.tensor(labels, dtype=torch.long)\n",
        "x = torch.eye(len(node_mapping))\n",
        "\n",
        "data = Data(x=x, edge_index=edge_index, edge_attr=edge_attr, y=labels)\n",
        "\n",
        "# Train-test split\n",
        "data_train, data_test = train_test_split(\n",
        "    list(range(data.edge_index.shape[1])), test_size=0.2, random_state=42, stratify=labels\n",
        ")\n",
        "train_mask = torch.zeros(data.edge_index.shape[1], dtype=torch.bool)\n",
        "train_mask[data_train] = True\n",
        "test_mask = torch.zeros(data.edge_index.shape[1], dtype=torch.bool)\n",
        "test_mask[data_test] = True"
      ],
      "metadata": {
        "trusted": true,
        "execution": {
          "iopub.status.busy": "2025-05-03T11:44:13.705386Z",
          "iopub.execute_input": "2025-05-03T11:44:13.70559Z",
          "iopub.status.idle": "2025-05-03T11:44:19.542933Z",
          "shell.execute_reply.started": "2025-05-03T11:44:13.705576Z",
          "shell.execute_reply": "2025-05-03T11:44:19.542128Z"
        },
        "id": "9Z20mqfZ7ziw"
      },
      "outputs": [],
      "execution_count": null
    },
    {
      "cell_type": "code",
      "source": [
        "print(\"Graph Information\")\n",
        "print(\"-\" * 50)\n",
        "print(f\"Number of nodes: {data.num_nodes}\")\n",
        "print(f\"Number of edges: {data.num_edges}\")\n",
        "print(f\"Node feature shape: {data.x.shape}\")\n",
        "print(f\"Edge index shape: {data.edge_index.shape}\")\n",
        "print(f\"Edge attribute shape: {data.edge_attr.shape}\")\n",
        "print(f\"Edge label shape: {data.y.shape}\")\n",
        "print(f\"Number of features per edge: {data.edge_attr.shape[1]}\")\n",
        "print(f\"Number of classes: {data.y.unique().size(0)}\")\n",
        "print(f\"Class distribution: {torch.bincount(data.y)}\")\n",
        "print(f\"Training edges: {train_mask.sum().item()}\")\n",
        "print(f\"Testing edges: {test_mask.sum().item()}\")\n"
      ],
      "metadata": {
        "trusted": true,
        "execution": {
          "iopub.status.busy": "2025-05-03T11:44:19.543789Z",
          "iopub.execute_input": "2025-05-03T11:44:19.544011Z",
          "iopub.status.idle": "2025-05-03T11:44:19.579719Z",
          "shell.execute_reply.started": "2025-05-03T11:44:19.543994Z",
          "shell.execute_reply": "2025-05-03T11:44:19.578979Z"
        },
        "id": "iUA93Pmv7ziw"
      },
      "outputs": [],
      "execution_count": null
    },
    {
      "cell_type": "code",
      "source": [
        "import pandas as pd\n",
        "import networkx as nx\n",
        "import numpy as np\n",
        "import torch\n",
        "from torch_geometric.data import Data\n",
        "from sklearn.model_selection import train_test_split\n",
        "import matplotlib.pyplot as plt\n",
        "\n",
        "\n",
        "# Cria o grafo\n",
        "G = nx.MultiGraph()\n",
        "G.add_nodes_from(d[\"card_id\"].unique(), type='card')\n",
        "G.add_nodes_from(d[\"Merchant Name\"].unique(), type='merchant')\n",
        "node_mapping = {node: idx for idx, node in enumerate(G.nodes)}\n",
        "\n",
        "total_edges = []\n",
        "edge_attrs = []\n",
        "labels = []\n",
        "for _, row in d.iterrows():\n",
        "    src = node_mapping[row[\"card_id\"]]\n",
        "    dst = node_mapping[row[\"Merchant Name\"]]\n",
        "    total_edges.append((src, dst))\n",
        "    edge_attrs.append([row[\"Amount\"], row[\"Merchant City\"], row[\"Use Chip\"],row[\"Year\"],row[\"Month\"],row[\"Day\"],row[\"Errors?\"]])\n",
        "    labels.append(row[\"Is Fraud?\"])\n",
        "\n",
        "edge_index = torch.tensor(np.array(total_edges).T, dtype=torch.long)\n",
        "edge_attr = torch.tensor(edge_attrs, dtype=torch.float)\n",
        "labels = torch.tensor(labels, dtype=torch.long)\n",
        "x = torch.eye(len(node_mapping))\n",
        "\n",
        "data = Data(x=x, edge_index=edge_index, edge_attr=edge_attr, y=labels)\n",
        "\n",
        "# Train-test split\n",
        "data_train, data_test = train_test_split(\n",
        "    list(range(data.edge_index.shape[1])), test_size=0.2, random_state=42, stratify=labels\n",
        ")\n",
        "train_mask = torch.zeros(data.edge_index.shape[1], dtype=torch.bool)\n",
        "train_mask[data_train] = True\n",
        "test_mask = torch.zeros(data.edge_index.shape[1], dtype=torch.bool)\n",
        "test_mask[data_test] = True\n",
        "\n",
        "\n",
        "def plot_graph(graph, node_mapping, top_n=10):\n",
        "    \"\"\"\n",
        "    Plota o grafo e exibe o número de conexões dos nós.\n",
        "\n",
        "    Args:\n",
        "        graph (nx.Graph): O grafo a ser plotado.\n",
        "        node_mapping (dict): Um dicionário mapeando nós para seus índices.\n",
        "        top_n (int): Número de nós com mais conexões a serem exibidos.\n",
        "    \"\"\"\n",
        "\n",
        "    # Calcula o grau de cada nó (número de conexões)\n",
        "    node_degrees = dict(graph.degree())\n",
        "\n",
        "    # Ordena os nós por grau decrescente\n",
        "    sorted_nodes = sorted(node_degrees.items(), key=lambda item: item[1], reverse=True)\n",
        "\n",
        "    # Imprime os top_n nós com mais conexões\n",
        "    print(\"\\nTop {} Nodes by Number of Connections:\".format(top_n))\n",
        "    for node, degree in sorted_nodes[:top_n]:\n",
        "        # Encontra o nome original do nó usando o node_mapping invertido\n",
        "        original_node_name = list(node_mapping.keys())[list(node_mapping.values()).index(node)]\n",
        "        print(f\"Node: {original_node_name}, Connections: {degree}\")\n",
        "\n",
        "    # Layout do grafo (pode ajustar o layout para melhor visualização)\n",
        "    pos = nx.spring_layout(graph, k=0.1)  # Ajuste o valor de 'k' para espaçamento\n",
        "\n",
        "    # Desenha o grafo\n",
        "    plt.figure(figsize=(12, 8))  # Ajuste o tamanho da figura\n",
        "    nx.draw(graph, pos, with_labels=False, node_size=20, node_color='skyblue', edge_color='gray', alpha=0.7)\n",
        "\n",
        "    # Adiciona rótulos apenas para alguns nós para evitar sobreposição\n",
        "    labels = {node: name for name, node in node_mapping.items() if node in pos and node in [node for node, degree in sorted_nodes[:top_n]]} # Rótulos só para o top_n\n",
        "    nx.draw_networkx_labels(graph, pos, labels, font_size=8, font_color='black')\n",
        "\n",
        "\n",
        "    plt.title(\"Credit Card Transaction Graph\")\n",
        "    plt.show()\n",
        "\n",
        "\n",
        "\n",
        "# Converte o grafo torch_geometric para networkx\n",
        "G_nx = nx.MultiGraph()  # Usa MultiGraph para permitir múltiplas arestas\n",
        "\n",
        "# Adiciona nós\n",
        "for i in range(data.x.shape[0]):\n",
        "    G_nx.add_node(i)\n",
        "\n",
        "# Adiciona arestas\n",
        "for i in range(data.edge_index.shape[1]):\n",
        "    src = data.edge_index[0, i].item()\n",
        "    dst = data.edge_index[1, i].item()\n",
        "    # Adiciona os atributos como um dicionário\n",
        "    G_nx.add_edge(src, dst, attr_dict=data.edge_attr[i].tolist())  # Transforma o tensor em lista\n",
        "\n",
        "\n",
        "# Chama a função para plotar o grafo\n",
        "plot_graph(G_nx, node_mapping)"
      ],
      "metadata": {
        "colab": {
          "base_uri": "https://localhost:8080/",
          "height": 222
        },
        "id": "gEhM8z-XCWhW",
        "outputId": "94048ef2-54c9-4981-f933-09f731c273ba"
      },
      "execution_count": 1,
      "outputs": [
        {
          "output_type": "error",
          "ename": "NameError",
          "evalue": "name 'd' is not defined",
          "traceback": [
            "\u001b[0;31m---------------------------------------------------------------------------\u001b[0m",
            "\u001b[0;31mNameError\u001b[0m                                 Traceback (most recent call last)",
            "\u001b[0;32m/tmp/ipython-input-1-3642812110.py\u001b[0m in \u001b[0;36m<cell line: 0>\u001b[0;34m()\u001b[0m\n\u001b[1;32m     10\u001b[0m \u001b[0;31m# Cria o grafo\u001b[0m\u001b[0;34m\u001b[0m\u001b[0;34m\u001b[0m\u001b[0m\n\u001b[1;32m     11\u001b[0m \u001b[0mG\u001b[0m \u001b[0;34m=\u001b[0m \u001b[0mnx\u001b[0m\u001b[0;34m.\u001b[0m\u001b[0mMultiGraph\u001b[0m\u001b[0;34m(\u001b[0m\u001b[0;34m)\u001b[0m\u001b[0;34m\u001b[0m\u001b[0;34m\u001b[0m\u001b[0m\n\u001b[0;32m---> 12\u001b[0;31m \u001b[0mG\u001b[0m\u001b[0;34m.\u001b[0m\u001b[0madd_nodes_from\u001b[0m\u001b[0;34m(\u001b[0m\u001b[0md\u001b[0m\u001b[0;34m[\u001b[0m\u001b[0;34m\"card_id\"\u001b[0m\u001b[0;34m]\u001b[0m\u001b[0;34m.\u001b[0m\u001b[0munique\u001b[0m\u001b[0;34m(\u001b[0m\u001b[0;34m)\u001b[0m\u001b[0;34m,\u001b[0m \u001b[0mtype\u001b[0m\u001b[0;34m=\u001b[0m\u001b[0;34m'card'\u001b[0m\u001b[0;34m)\u001b[0m\u001b[0;34m\u001b[0m\u001b[0;34m\u001b[0m\u001b[0m\n\u001b[0m\u001b[1;32m     13\u001b[0m \u001b[0mG\u001b[0m\u001b[0;34m.\u001b[0m\u001b[0madd_nodes_from\u001b[0m\u001b[0;34m(\u001b[0m\u001b[0md\u001b[0m\u001b[0;34m[\u001b[0m\u001b[0;34m\"Merchant Name\"\u001b[0m\u001b[0;34m]\u001b[0m\u001b[0;34m.\u001b[0m\u001b[0munique\u001b[0m\u001b[0;34m(\u001b[0m\u001b[0;34m)\u001b[0m\u001b[0;34m,\u001b[0m \u001b[0mtype\u001b[0m\u001b[0;34m=\u001b[0m\u001b[0;34m'merchant'\u001b[0m\u001b[0;34m)\u001b[0m\u001b[0;34m\u001b[0m\u001b[0;34m\u001b[0m\u001b[0m\n\u001b[1;32m     14\u001b[0m \u001b[0mnode_mapping\u001b[0m \u001b[0;34m=\u001b[0m \u001b[0;34m{\u001b[0m\u001b[0mnode\u001b[0m\u001b[0;34m:\u001b[0m \u001b[0midx\u001b[0m \u001b[0;32mfor\u001b[0m \u001b[0midx\u001b[0m\u001b[0;34m,\u001b[0m \u001b[0mnode\u001b[0m \u001b[0;32min\u001b[0m \u001b[0menumerate\u001b[0m\u001b[0;34m(\u001b[0m\u001b[0mG\u001b[0m\u001b[0;34m.\u001b[0m\u001b[0mnodes\u001b[0m\u001b[0;34m)\u001b[0m\u001b[0;34m}\u001b[0m\u001b[0;34m\u001b[0m\u001b[0;34m\u001b[0m\u001b[0m\n",
            "\u001b[0;31mNameError\u001b[0m: name 'd' is not defined"
          ]
        }
      ]
    },
    {
      "cell_type": "markdown",
      "source": [
        "![screenshot_221639.png](attachment:210c7e19-25aa-415a-842e-202605d57e22.png)"
      ],
      "metadata": {
        "id": "DW5qQTaR7ziw"
      }
    },
    {
      "cell_type": "markdown",
      "source": [
        "The visual representation of the constructed graph in [Gephi](https://gephi.org/).  Black nodes represent cardholders, Brown nodes represent merchants, and red edges indicate fraudulent transactions while Green edges represent legitimate transactions.\n",
        "        The graph reveals clusters and transaction patterns which are later used for GNN-based classification."
      ],
      "metadata": {
        "id": "Ugx4zYlZ7ziw"
      }
    },
    {
      "cell_type": "code",
      "source": [
        "# import networkx as nx\n",
        "# from torch_geometric.utils import to_networkx\n",
        "\n",
        "# # Create an empty graph (undirected for visualization)\n",
        "# G_export = nx.Graph()\n",
        "\n",
        "# # Add nodes from the data and distinguish between user and merchant nodes\n",
        "# for idx in range(data.num_nodes):\n",
        "#     G_export.add_node(idx)\n",
        "\n",
        "# # Create node type mapping (0 - card, 1 - merchant) based on your assumption\n",
        "# node_types = {}\n",
        "# for _, row in df.iterrows():\n",
        "#     card_id = row[\"card_id\"]\n",
        "#     merchant_name = row[\"Merchant Name\"]\n",
        "\n",
        "#     # Assuming card_id represents users, and Merchant Name represents merchants\n",
        "#     # Add user (card_id) node type\n",
        "#     if card_id not in node_types:\n",
        "#         node_types[card_id] = 'user'  # user node\n",
        "#     # Add merchant (Merchant Name) node type\n",
        "#     if merchant_name not in node_types:\n",
        "#         node_types[merchant_name] = 'merchant'  # merchant node\n",
        "\n",
        "# # Add edges with fraud labels and attributes (amount, city, etc.)\n",
        "# for i in range(data.edge_index.size(1)):\n",
        "#     src = int(data.edge_index[0, i])\n",
        "#     dst = int(data.edge_index[1, i])\n",
        "#     attr = data.edge_attr[i].tolist()\n",
        "\n",
        "#     # Unpack edge features\n",
        "#     amount, merchant_city, use_chip, year, month, day, errors = attr\n",
        "#     is_fraud = int(data.y[i].item())  # Fraud label (0 or 1)\n",
        "\n",
        "#     G_export.add_edge(\n",
        "#         src,\n",
        "#         dst,\n",
        "#         amount=float(amount),\n",
        "#         merchant_city=float(merchant_city),  # or int if possible\n",
        "#         use_chip=float(use_chip),\n",
        "#         year=float(year),\n",
        "#         month=float(month),\n",
        "#         day=float(day),\n",
        "#         errors=float(errors),\n",
        "#         is_fraud=is_fraud  # Add fraud status\n",
        "#     )\n",
        "\n",
        "# # Add node type attributes\n",
        "# nx.set_node_attributes(G_export, node_types, name=\"type\")\n",
        "\n",
        "# # Now write the graph to GraphML\n",
        "# nx.write_graphml(G_export, \"/kaggle/working/gnn_fraud_graph_with_types.graphml\")\n",
        "\n",
        "# # Optionally, you can export in GEXF format if you want better compatibility with Gephi\n",
        "# # nx.write_gexf(G_export, \"/kaggle/working/gnn_fraud_graph_with_types.gexf\")\n"
      ],
      "metadata": {
        "trusted": true,
        "execution": {
          "iopub.status.busy": "2025-05-03T11:44:19.580585Z",
          "iopub.execute_input": "2025-05-03T11:44:19.580834Z",
          "iopub.status.idle": "2025-05-03T11:44:19.585035Z",
          "shell.execute_reply.started": "2025-05-03T11:44:19.580816Z",
          "shell.execute_reply": "2025-05-03T11:44:19.584334Z"
        },
        "id": "2nzOGmbW7ziw"
      },
      "outputs": [],
      "execution_count": null
    },
    {
      "cell_type": "code",
      "source": [
        "# Node features\n",
        "print(\"Node features (x):\", data.x.shape)\n",
        "print(data.x[:5])  # first 5 node features\n",
        "\n",
        "# Edge index\n",
        "print(\"Edge index shape:\", data.edge_index.shape)\n",
        "print(data.edge_index[:, :5])  # first 5 edges\n",
        "\n",
        "# Edge attributes\n",
        "print(\"Edge attributes:\", data.edge_attr.shape)\n",
        "print(data.edge_attr[:5])  # first 5 edge features\n",
        "\n",
        "# Labels\n",
        "print(\"Labels (y):\", data.y.shape)\n",
        "print(data.y[:5])  # first 5 labels\n"
      ],
      "metadata": {
        "trusted": true,
        "execution": {
          "iopub.status.busy": "2025-05-03T11:44:19.585744Z",
          "iopub.execute_input": "2025-05-03T11:44:19.58596Z",
          "iopub.status.idle": "2025-05-03T11:44:19.631602Z",
          "shell.execute_reply.started": "2025-05-03T11:44:19.585945Z",
          "shell.execute_reply": "2025-05-03T11:44:19.63089Z"
        },
        "id": "xjA1AkBY7ziw"
      },
      "outputs": [],
      "execution_count": null
    },
    {
      "cell_type": "code",
      "source": [
        "import torch\n",
        "import torch.nn.functional as F\n",
        "from torch import nn\n",
        "from torch_geometric.nn import GATConv, GAE\n",
        "from torch_geometric.data import Data\n",
        "from torch.optim.lr_scheduler import ReduceLROnPlateau\n",
        "\n",
        "# 1. GAT encoder that processes edge attributes\n",
        "class GATEncoderWithEdgeAttrs(nn.Module):\n",
        "    def __init__(self, in_channels, hidden_channels, edge_attr_dim, heads=4, dropout=0.3):\n",
        "        super().__init__()\n",
        "        self.gat1 = GATConv(in_channels, hidden_channels, heads=heads, dropout=dropout)\n",
        "        self.gat2 = GATConv(hidden_channels * heads, hidden_channels,\n",
        "                            heads=1, concat=False, dropout=dropout)\n",
        "        self.edge_mlp = nn.Sequential(\n",
        "            nn.Linear(edge_attr_dim, 32),\n",
        "            nn.ReLU(),\n",
        "            nn.Dropout(0.3),\n",
        "            nn.Linear(32, hidden_channels)\n",
        "        )\n",
        "        self.dropout = dropout\n",
        "\n",
        "    def forward(self, x, edge_index, edge_attr):\n",
        "        x = F.elu(self.gat1(x, edge_index))\n",
        "        x = F.dropout(x, p=self.dropout, training=self.training)\n",
        "        x = self.gat2(x, edge_index)\n",
        "        edge_attr = self.edge_mlp(edge_attr)\n",
        "        return x, edge_attr\n",
        "\n",
        "\n",
        "# 2. Edge classifier that computes its input size dynamically\n",
        "class EdgeMLPClassifier(nn.Module):\n",
        "    def __init__(self, emb_dim, hidden_dim, num_classes):\n",
        "        super().__init__()\n",
        "        # z[row] + z[col] + processed_edge_attr + |z[row] - z[col]|\n",
        "        input_dim = 2 * emb_dim + emb_dim + emb_dim\n",
        "        self.edge_mlp = nn.Sequential(\n",
        "            nn.Linear(input_dim, hidden_dim),\n",
        "            nn.ReLU(),\n",
        "            nn.Dropout(0.3),\n",
        "            nn.Linear(hidden_dim, num_classes)\n",
        "        )\n",
        "\n",
        "    def forward(self, z, edge_index, edge_attr):\n",
        "        row, col = edge_index\n",
        "        edge_diff = torch.abs(z[row] - z[col])\n",
        "        edge_feat = torch.cat([z[row], z[col], edge_attr, edge_diff], dim=1)\n",
        "        return self.edge_mlp(edge_feat)\n",
        "\n",
        "\n",
        "# 3. Setup device and models\n",
        "device = torch.device(\"cuda\" if torch.cuda.is_available() else \"cpu\")\n",
        "\n",
        "encoder = GATEncoderWithEdgeAttrs(\n",
        "    in_channels = x.shape[1],\n",
        "    hidden_channels = 64,\n",
        "    edge_attr_dim = edge_attr.shape[1]\n",
        ").to(device)\n",
        "\n",
        "model = GAE(encoder).to(device)\n",
        "\n",
        "classifier = EdgeMLPClassifier(\n",
        "    emb_dim = 64,\n",
        "    hidden_dim = 64,\n",
        "    num_classes = 2\n",
        ").to(device)\n",
        "\n",
        "data = data.to(device)\n",
        "\n",
        "# 4. Optimizer and loss\n",
        "optimizer = torch.optim.Adam(\n",
        "    list(model.parameters()) + list(classifier.parameters()),\n",
        "    lr = 0.001,\n",
        "    weight_decay = 1e-4\n",
        ")\n",
        "criterion = nn.CrossEntropyLoss()\n",
        "\n",
        "# Ready to train! You can now run your training loop using:\n",
        "# for epoch in range(...):\n",
        "#     ...\n"
      ],
      "metadata": {
        "trusted": true,
        "execution": {
          "iopub.status.busy": "2025-05-03T11:44:19.632425Z",
          "iopub.execute_input": "2025-05-03T11:44:19.632686Z",
          "iopub.status.idle": "2025-05-03T11:44:20.208887Z",
          "shell.execute_reply.started": "2025-05-03T11:44:19.632666Z",
          "shell.execute_reply": "2025-05-03T11:44:20.20812Z"
        },
        "id": "4XQAvP0u7ziw"
      },
      "outputs": [],
      "execution_count": null
    },
    {
      "cell_type": "code",
      "source": [
        "import torch\n",
        "import torch.nn.functional as F\n",
        "from sklearn.metrics import confusion_matrix, classification_report\n",
        "import matplotlib.pyplot as plt\n",
        "import seaborn as sns\n",
        "\n",
        "# Training loop\n",
        "train_losses, test_losses = [], []\n",
        "train_accs, test_accs = [], []\n",
        "\n",
        "for epoch in range(500):\n",
        "    model.eval()  # GAE is pretrained or frozen\n",
        "    classifier.train()  # Classifier training mode\n",
        "    optimizer.zero_grad()\n",
        "\n",
        "    # Encode nodes with the GAT model (including edge attributes)\n",
        "    z, processed_edge_attr = model.encode(data.x, data.edge_index, data.edge_attr)\n",
        "\n",
        "    # Edge classifier: Use processed edge attributes\n",
        "    out = classifier(z, data.edge_index, processed_edge_attr)\n",
        "\n",
        "    # Calculate loss using the training mask\n",
        "    loss = criterion(out[train_mask], data.y[train_mask])\n",
        "    loss.backward()\n",
        "    optimizer.step()\n",
        "\n",
        "    # Calculate training accuracy\n",
        "    pred_train = out[train_mask].argmax(dim=1)\n",
        "    acc_train = (pred_train == data.y[train_mask]).sum().item() / train_mask.sum().item()\n",
        "\n",
        "    # Testing phase (with no gradients)\n",
        "    classifier.eval()  # Set classifier to evaluation mode\n",
        "    with torch.no_grad():\n",
        "        # Encode the nodes again (for testing)\n",
        "        z, processed_edge_attr = model.encode(data.x, data.edge_index, data.edge_attr)\n",
        "\n",
        "        # Get predictions from the classifier\n",
        "        out = classifier(z, data.edge_index, processed_edge_attr)\n",
        "\n",
        "        # Calculate test loss and accuracy\n",
        "        loss_test = criterion(out[test_mask], data.y[test_mask])\n",
        "        pred_test = out[test_mask].argmax(dim=1)\n",
        "        acc_test = (pred_test == data.y[test_mask]).sum().item() / test_mask.sum().item()\n",
        "\n",
        "    # Track training and test metrics\n",
        "    train_losses.append(loss.item())\n",
        "    test_losses.append(loss_test.item())\n",
        "    train_accs.append(acc_train)\n",
        "    test_accs.append(acc_test)\n",
        "\n",
        "    # Print training progress every 100 epochs\n",
        "    if epoch % 50 == 0:\n",
        "        print(f\"Epoch {epoch+1}: Train Loss={loss.item():.4f}, Acc={acc_train:.4f} | Test Loss={loss_test.item():.4f}, Acc={acc_test:.4f}\")\n",
        "\n",
        "# Final evaluation on test data\n",
        "classifier.eval()  # Set classifier to eval mode for final prediction\n",
        "with torch.no_grad():\n",
        "    z, processed_edge_attr = model.encode(data.x, data.edge_index, data.edge_attr)\n",
        "    final_out = classifier(z, data.edge_index, processed_edge_attr)\n",
        "    final_preds = final_out[test_mask].argmax(dim=1).cpu().numpy()\n",
        "    true_labels = data.y[test_mask].cpu().numpy()\n",
        "\n",
        "# Plot Loss over Epochs\n",
        "plt.figure(figsize=(6, 4))\n",
        "plt.plot(train_losses, label='Train Loss')\n",
        "plt.plot(test_losses, label='Test Loss')\n",
        "plt.xlabel(\"Epoch\")\n",
        "plt.ylabel(\"Loss\")\n",
        "plt.title(\"Loss over Epochs\")\n",
        "plt.legend()\n",
        "plt.grid(True)\n",
        "plt.show()\n",
        "\n",
        "# Plot Accuracy over Epochs\n",
        "plt.figure(figsize=(6, 4))\n",
        "plt.plot(train_accs, label='Train Accuracy')\n",
        "plt.plot(test_accs, label='Test Accuracy')\n",
        "plt.xlabel(\"Epoch\")\n",
        "plt.ylabel(\"Accuracy\")\n",
        "plt.title(\"Accuracy over Epochs\")\n",
        "plt.legend()\n",
        "plt.grid(True)\n",
        "plt.show()\n",
        "\n",
        "# Confusion Matrix\n",
        "cm = confusion_matrix(true_labels, final_preds, labels=[0, 1])\n",
        "plt.figure(figsize=(8, 6))\n",
        "sns.heatmap(cm, annot=True, fmt='d', cmap='Blues', xticklabels=['Not Fraud', 'Fraud'], yticklabels=['Not Fraud', 'Fraud'])\n",
        "plt.xlabel(\"Predicted\")\n",
        "plt.ylabel(\"Actual\")\n",
        "plt.title(\"Confusion Matrix\")\n",
        "plt.show()\n",
        "\n",
        "# Classification Report\n",
        "print(\"Classification Report:\")\n",
        "print(classification_report(true_labels, final_preds, labels=[0, 1], target_names=['Not Fraud', 'Fraud'], zero_division=0, digits=5))\n"
      ],
      "metadata": {
        "trusted": true,
        "execution": {
          "iopub.status.busy": "2025-05-03T11:44:20.209769Z",
          "iopub.execute_input": "2025-05-03T11:44:20.210371Z",
          "iopub.status.idle": "2025-05-03T11:45:28.53556Z",
          "shell.execute_reply.started": "2025-05-03T11:44:20.210351Z",
          "shell.execute_reply": "2025-05-03T11:45:28.534776Z"
        },
        "id": "v7l1PPXe7zix"
      },
      "outputs": [],
      "execution_count": null
    }
  ]
}